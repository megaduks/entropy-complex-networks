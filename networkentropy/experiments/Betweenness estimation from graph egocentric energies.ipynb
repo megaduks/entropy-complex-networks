{
 "cells": [
  {
   "cell_type": "markdown",
   "metadata": {
    "toc": true
   },
   "source": [
    "<h1>Table of Contents<span class=\"tocSkip\"></span></h1>\n",
    "<div class=\"toc\"><ul class=\"toc-item\"><li><span><a href=\"#Correlation-of-vertex-betweenness-with-graph-energy-of-vertex-egocentric-network\" data-toc-modified-id=\"Correlation-of-vertex-betweenness-with-graph-energy-of-vertex-egocentric-network-1\"><span class=\"toc-item-num\">1&nbsp;&nbsp;</span>Correlation of vertex betweenness with graph energy of vertex egocentric network</a></span><ul class=\"toc-item\"><li><span><a href=\"#Graph-energy\" data-toc-modified-id=\"Graph-energy-1.1\"><span class=\"toc-item-num\">1.1&nbsp;&nbsp;</span>Graph energy</a></span></li><li><span><a href=\"#Randić-energy\" data-toc-modified-id=\"Randić-energy-1.2\"><span class=\"toc-item-num\">1.2&nbsp;&nbsp;</span>Randić energy</a></span></li><li><span><a href=\"#Laplacian-energy\" data-toc-modified-id=\"Laplacian-energy-1.3\"><span class=\"toc-item-num\">1.3&nbsp;&nbsp;</span>Laplacian energy</a></span></li><li><span><a href=\"#Matrix-energies-for-various-topologies-of-small-egocentric-networks\" data-toc-modified-id=\"Matrix-energies-for-various-topologies-of-small-egocentric-networks-1.4\"><span class=\"toc-item-num\">1.4&nbsp;&nbsp;</span>Matrix energies for various topologies of small egocentric networks</a></span></li></ul></li><li><span><a href=\"#Correlation-of-graph/Randić/Laplacian-energy-and-betweenness-in-artificial-networks\" data-toc-modified-id=\"Correlation-of-graph/Randić/Laplacian-energy-and-betweenness-in-artificial-networks-2\"><span class=\"toc-item-num\">2&nbsp;&nbsp;</span>Correlation of graph/Randić/Laplacian energy and betweenness in artificial networks</a></span></li><li><span><a href=\"#Visualization-of-graph-energies-centrality\" data-toc-modified-id=\"Visualization-of-graph-energies-centrality-3\"><span class=\"toc-item-num\">3&nbsp;&nbsp;</span>Visualization of graph energies centrality</a></span></li><li><span><a href=\"#Regression-modeling-in-synthetic-networks\" data-toc-modified-id=\"Regression-modeling-in-synthetic-networks-4\"><span class=\"toc-item-num\">4&nbsp;&nbsp;</span>Regression modeling in synthetic networks</a></span><ul class=\"toc-item\"><li><span><a href=\"#Visualization-of-the-relationship-between-vertex-betweenness-and-vertex-energies-in-random-synthetic-networks\" data-toc-modified-id=\"Visualization-of-the-relationship-between-vertex-betweenness-and-vertex-energies-in-random-synthetic-networks-4.1\"><span class=\"toc-item-num\">4.1&nbsp;&nbsp;</span>Visualization of the relationship between vertex betweenness and vertex energies in random synthetic networks</a></span></li><li><span><a href=\"#Regression-modeling-for-vertex-betweenness-and-vertex-energies-in-random-synthetic-networks\" data-toc-modified-id=\"Regression-modeling-for-vertex-betweenness-and-vertex-energies-in-random-synthetic-networks-4.2\"><span class=\"toc-item-num\">4.2&nbsp;&nbsp;</span>Regression modeling for vertex betweenness and vertex energies in random synthetic networks</a></span></li></ul></li><li><span><a href=\"#Empirical-networks\" data-toc-modified-id=\"Empirical-networks-5\"><span class=\"toc-item-num\">5&nbsp;&nbsp;</span>Empirical networks</a></span><ul class=\"toc-item\"><li><span><a href=\"#Show-the-density-ratio-where-our-method-beats-SOTA\" data-toc-modified-id=\"Show-the-density-ratio-where-our-method-beats-SOTA-5.1\"><span class=\"toc-item-num\">5.1&nbsp;&nbsp;</span>Show the density ratio where our method beats SOTA</a></span></li><li><span><a href=\"#Compute-the-correlation-of-betweenness-and-egocentric-energies\" data-toc-modified-id=\"Compute-the-correlation-of-betweenness-and-egocentric-energies-5.2\"><span class=\"toc-item-num\">5.2&nbsp;&nbsp;</span>Compute the correlation of betweenness and egocentric energies</a></span></li><li><span><a href=\"#Compute-RandomForest-model-for-predicting-vertex-betweenness\" data-toc-modified-id=\"Compute-RandomForest-model-for-predicting-vertex-betweenness-5.3\"><span class=\"toc-item-num\">5.3&nbsp;&nbsp;</span>Compute RandomForest model for predicting vertex betweenness</a></span></li><li><span><a href=\"#Compute-precision@k-measures-for-prediction\" data-toc-modified-id=\"Compute-precision@k-measures-for-prediction-5.4\"><span class=\"toc-item-num\">5.4&nbsp;&nbsp;</span>Compute precision@k measures for prediction</a></span></li></ul></li><li><span><a href=\"#Transfer-learning\" data-toc-modified-id=\"Transfer-learning-6\"><span class=\"toc-item-num\">6&nbsp;&nbsp;</span>Transfer learning</a></span></li></ul></div>"
   ]
  },
  {
   "cell_type": "code",
   "execution_count": 2,
   "metadata": {
    "ExecuteTime": {
     "end_time": "2019-08-05T09:43:24.905341Z",
     "start_time": "2019-08-05T09:43:23.813237Z"
    }
   },
   "outputs": [],
   "source": [
    "%matplotlib inline\n",
    "\n",
    "import warnings\n",
    "warnings.filterwarnings('ignore')\n",
    "\n",
    "from tqdm import tqdm_notebook as tqdm\n",
    "from ggplot import *\n",
    "\n",
    "import pandas as pd\n",
    "import numpy as np\n",
    "import networkx as nx\n",
    "import scipy, scipy.stats\n",
    "import matplotlib.pyplot as plt\n",
    "import seaborn as sns\n",
    "import sklearn.preprocessing\n",
    "import logging\n",
    "import requests\n",
    "import itertools\n",
    "\n",
    "import sys\n",
    "sys.path.append(\"..\")\n",
    "\n",
    "import network_energy as ne\n",
    "import utils as nu"
   ]
  },
  {
   "cell_type": "markdown",
   "metadata": {
    "cell_style": "center"
   },
   "source": [
    "# Correlation of vertex betweenness with graph energy of vertex egocentric network\n",
    "\n",
    "In this experiment we are considering the measure of energy dispersion and its correlation to betweeness of vertices. There are multiple graph energies proposed in the literature, but our primary interest lies in Graph, Laplacian and Randić energies. Within the experiment we calculate the energy of each vertex by means of their ego-network. Then we compare how betweenes of vertices is correlated with the energy of their egocentric networks.\n",
    "\n",
    "Our second experiment aims at using machine learning to predict the betweenness of a vertex from only the local information contained in the egocentric network of that vertex. Computing of betweenness requires a very costly computation of all shortest paths in the network. Our approach allows to estimate betweennes using only local information.\n",
    "\n",
    "Finally, in our third experiment, we perform transfer learning, training a model for predicting betweenness on one network, and using this model to predict betweenness of vertices in other networks.\n"
   ]
  },
  {
   "cell_type": "markdown",
   "metadata": {},
   "source": [
    "## Graph energy\n",
    "\n",
    "Graph energy of a graph is defined as $E_G(G) = \\sum\\limits_{i=1}^n |\\mu_i|$, where $\\mu_1, \\ldots, \\mu_n$ are the eigenvalues of the adjacency matrix $M_A$ (also known as the *spectrum* of the graph).\n",
    "\n",
    "## Randić energy\n",
    "\n",
    "Randić matrix of the graph $G=\\left<V, E\\right>$ is defined as:\n",
    "\n",
    "$$\n",
    "M_R(i,j)=\n",
    "\\begin{cases}\n",
    "0 & \\mathit{if} & i=j\\\\\n",
    "\\frac{1}{\\sqrt{d_i d_j}} & \\mathit{if} & (i,j) \\in E\\\\\n",
    "0 & \\mathit{if} & (i,j) \\notin E\n",
    "\\end{cases}\n",
    "$$\n",
    "\n",
    "Randić energy of a graph is defined as $E_R(G) = \\sum\\limits_{i=1}^n |\\rho_i|$, where $\\rho_1, \\ldots, \\rho_n$ are the eigenvalues of the Randić matrix $M_R$.\n",
    "\n",
    "## Laplacian energy\n",
    "\n",
    "Laplacian matrix of the graph $G=\\left<V, E\\right>$ is defined as:\n",
    "\n",
    "$$\n",
    "M_L(i,j)=\n",
    "\\begin{cases}\n",
    "d_i & \\mathit{if} & i=j\\\\\n",
    "-1 & \\mathit{if} & (i,j) \\in E\\\\\n",
    "0 & \\mathit{otherwise}\n",
    "\\end{cases}\n",
    "$$\n",
    "\n",
    "Laplacian energy of a graph is defined as $E_L(G) =  \\sum\\limits_{i=1}^n |\\lambda_i - \\frac{2m}{n}|$, where $\\lambda_1, \\ldots, \\lambda_n$ are the eigenvalues of the Laplacian matrix $M_L$, $n$ is the number of vertices and $m$ is the number of edges in the graph $G$."
   ]
  },
  {
   "cell_type": "code",
   "execution_count": null,
   "metadata": {
    "ExecuteTime": {
     "end_time": "2019-08-05T09:09:51.661907Z",
     "start_time": "2019-08-05T09:09:51.658351Z"
    }
   },
   "outputs": [],
   "source": [
    "def chunks(lst, n):\n",
    "    \"\"\"\n",
    "    Divide a list of vertices `lst` into chunks consisting of `n` vertices\n",
    "    \n",
    "    Tests:\n",
    "    >>> list(chunks([1,2,3,4,5,6], 2))\n",
    "    [(1, 2), (3, 4), (5, 6)]\n",
    "\n",
    "    >>> list(chunks([1,2,3,4,5,6], 4))\n",
    "    [(1, 2, 3, 4), (5, 6)]\n",
    "\n",
    "    >>> list(chunks([], 2))\n",
    "    []\n",
    "\n",
    "    \"\"\"\n",
    "    _lst = iter(lst)\n",
    "    while 1:\n",
    "        x = tuple(itertools.islice(_lst, n))\n",
    "        if not x:\n",
    "            return\n",
    "        yield x\n",
    "        \n",
    "def normalize_df_column(df_column):\n",
    "    \"\"\"\n",
    "    Normalize a dataframe column to the range [0,1]\n",
    "    \n",
    "    Tests:\n",
    "    >>> normalize_df_column(pd.Series([1,2,3,4,5]))\n",
    "    array([[0.  ],\n",
    "           [0.25],\n",
    "           [0.5 ],\n",
    "           [0.75],\n",
    "           [1.  ]])\n",
    "    \"\"\"\n",
    "    x = df_column.values.astype(float)\n",
    "    min_max_scaler = sklearn.preprocessing.MinMaxScaler()\n",
    "    x_scaled = min_max_scaler.fit_transform(x.reshape(-1,1))\n",
    "    \n",
    "    return x_scaled"
   ]
  },
  {
   "cell_type": "code",
   "execution_count": null,
   "metadata": {
    "ExecuteTime": {
     "end_time": "2019-08-05T09:09:52.310523Z",
     "start_time": "2019-08-05T09:09:52.297436Z"
    }
   },
   "outputs": [],
   "source": [
    "import doctest\n",
    "doctest.testmod()"
   ]
  },
  {
   "cell_type": "markdown",
   "metadata": {},
   "source": [
    "## Matrix energies for various topologies of small egocentric networks\n",
    "\n",
    "Firstly, let us examine the relationship between the topology of a small egocentric network and its energies. We generate five different egocentric networks representing possible small scale configurations and compute all three types of matrix energies. The results are somehow surprising, graph energy tends to correlate with the degree of connectivity of the egocentric network, Randic energy remains practically constant, and Laplacian energy behaves unpredictably, receiving the maximum value for a custom topology. "
   ]
  },
  {
   "cell_type": "code",
   "execution_count": null,
   "metadata": {
    "ExecuteTime": {
     "end_time": "2019-08-05T09:09:59.160182Z",
     "start_time": "2019-08-05T09:09:58.550763Z"
    }
   },
   "outputs": [],
   "source": [
    "g_custom = nx.star_graph(n=5)\n",
    "g_custom.add_edge(1,2)\n",
    "g_custom.add_edge(4,5)\n",
    "\n",
    "graphs = [\n",
    "    {'name': 'path', 'graph': nx.path_graph(n=3)},\n",
    "    {'name': 'star', 'graph': nx.star_graph(n=5)},\n",
    "    {'name': 'custom', 'graph': g_custom},\n",
    "    {'name': 'wheel', 'graph': nx.wheel_graph(n=5)},\n",
    "    {'name': 'complete', 'graph': nx.complete_graph(n=5)}\n",
    "]\n",
    "\n",
    "plt.style.use(['seaborn-white', 'seaborn-paper'])\n",
    "sns.set(rc={'figure.figsize': (15, 4)})\n",
    "fig, ax = plt.subplots(5, 1)\n",
    "\n",
    "df = pd.DataFrame(\n",
    "    {'name': [ g['name'] for g in graphs],\n",
    "     'graph energy': [ne.get_graph_energy(g['graph']) for g in graphs],\n",
    "     'randic energy': [ne.get_randic_energy(g['graph']) for g in graphs],\n",
    "     'laplacian energy': [ne.get_laplacian_energy(g['graph']) for g in graphs]\n",
    "    }\n",
    ")\n",
    "\n",
    "plt.subplot(151)\n",
    "nx.draw(graphs[0]['graph'], node_color=['black','white','black'], edgecolors='black')\n",
    "plt.title(graphs[0]['name'])\n",
    "\n",
    "plt.subplot(152)\n",
    "nx.draw(graphs[1]['graph'], node_color=['white','black', 'black', 'black', 'black', 'black'], edgecolors='black')\n",
    "plt.title(graphs[1]['name'])\n",
    "\n",
    "plt.subplot(153)\n",
    "nx.draw(graphs[2]['graph'], node_color=['white','black','black', 'black', 'black', 'black'], edgecolors='black')\n",
    "plt.title(graphs[2]['name'])\n",
    "\n",
    "plt.subplot(154)\n",
    "nx.draw(graphs[3]['graph'], node_color=['white','black','black', 'black', 'black'], edgecolors='black')\n",
    "plt.title(graphs[3]['name'])\n",
    "\n",
    "plt.subplot(155)\n",
    "nx.draw(graphs[4]['graph'], node_color=['white','black','black', 'black', 'black'], edgecolors='black')\n",
    "plt.title(graphs[4]['name'])\n",
    "\n",
    "plt.show()\n",
    "\n",
    "print(df[['name', 'graph energy', 'randic energy', 'laplacian energy']].to_latex(index=False))"
   ]
  },
  {
   "cell_type": "markdown",
   "metadata": {},
   "source": [
    "Next, we start with a star configuration of an egocentric network consisting of an ego and additional $n$ vertices, and we gradually add all remaining edges, until we form a full $K_5$ graph. For each intermediate graph we compute all its energies. We can clearly see that each of matrix energies is measuring a different \"aspect\" of the egocentric network:\n",
    "\n",
    "* randic energy is maximized for topologies very close to the original star-like structure and diminishes as more and more edges are added to the egocentric network\n",
    "* laplacian energy strongly resembles the entropy of adjacency matrix, being maximized half-way between the star structure and the clique structure of the egocentric network\n",
    "* graph energy steadily grows as the density of the egocentric network increases."
   ]
  },
  {
   "cell_type": "code",
   "execution_count": null,
   "metadata": {
    "ExecuteTime": {
     "end_time": "2019-08-05T09:10:06.195575Z",
     "start_time": "2019-08-05T09:10:05.420444Z"
    }
   },
   "outputs": [],
   "source": [
    "from itertools import combinations\n",
    "from random import shuffle\n",
    "\n",
    "g = nx.star_graph(n=25)\n",
    "\n",
    "results = []\n",
    "\n",
    "edges = list(combinations(range(1, len(g.nodes)), r=2))\n",
    "\n",
    "# comment if you want to add edges in an ordered way\n",
    "shuffle(edges)\n",
    "\n",
    "for (idx, (i, j)) in enumerate(edges):\n",
    "    results.append((idx, ne.get_graph_energy(g), ne.get_randic_energy(g),\n",
    "                    ne.get_laplacian_energy(g)))\n",
    "\n",
    "    g.add_edge(i, j)"
   ]
  },
  {
   "cell_type": "code",
   "execution_count": null,
   "metadata": {
    "ExecuteTime": {
     "end_time": "2019-08-05T09:10:07.008864Z",
     "start_time": "2019-08-05T09:10:06.998567Z"
    }
   },
   "outputs": [],
   "source": [
    "df = pd.DataFrame(\n",
    "    data=results,\n",
    "    columns=[\n",
    "        'complexity', 'graph energy', 'randic energy', 'laplacian energy'\n",
    "    ])\n",
    "\n",
    "dfn = df[['graph energy','randic energy','laplacian energy']].apply(lambda s: s/s.max(), axis=0)\n",
    "dfn['complexity'] = df['complexity']"
   ]
  },
  {
   "cell_type": "code",
   "execution_count": null,
   "metadata": {
    "ExecuteTime": {
     "end_time": "2019-08-05T09:10:08.793592Z",
     "start_time": "2019-08-05T09:10:08.370672Z"
    }
   },
   "outputs": [],
   "source": [
    "dfm = pd.melt(\n",
    "    dfn,\n",
    "    value_vars=['graph energy', 'randic energy', 'laplacian energy'],\n",
    "    id_vars='complexity')\n",
    "\n",
    "plt.style.use(['seaborn-white', 'seaborn-paper'])\n",
    "sns.lineplot(data=dfm, x='complexity', y='value', style='variable')"
   ]
  },
  {
   "cell_type": "markdown",
   "metadata": {},
   "source": [
    "# Correlation of graph/Randić/Laplacian energy and betweenness in artificial networks\n",
    "\n",
    "In this experiment we create several instances of networks generated by two popular models:\n",
    "\n",
    "- Erdos-Renyi random network model\n",
    "- Barabasi-Albert preferential attachment model\n",
    "- stochastic block model\n",
    "\n",
    "and for each network we modify its main generative parameter. For each network we collect detailed statistics on every node:\n",
    "\n",
    "- its betweenness,\n",
    "- its Randić energy,\n",
    "- its Laplacian energy,\n",
    "- and its graph energy.\n",
    "\n",
    "We normalize these variables using MinMax scaling to the range of [0-1]. Finally, we group the data by network model and network model parameter used to generate a given network instance, and for each such combination we compute the correlation of \n",
    "\n"
   ]
  },
  {
   "cell_type": "code",
   "execution_count": null,
   "metadata": {
    "ExecuteTime": {
     "end_time": "2019-08-05T09:11:54.846722Z",
     "start_time": "2019-08-05T09:10:58.063542Z"
    }
   },
   "outputs": [],
   "source": [
    "num_nodes = 250\n",
    "\n",
    "results = pd.DataFrame(columns=['node',\n",
    "                                'betweenness',\n",
    "                                'randic_energy',\n",
    "                                'graph_energy',\n",
    "                                'network_model',\n",
    "                                'network_model_param'])\n",
    "\n",
    "# iterate over different parameter settings\n",
    "network_model_params = [p/100 for p in range(1, 10)]\n",
    "\n",
    "# radius of egocentric networks for energy computation\n",
    "radius = 1\n",
    "\n",
    "# sizes of groups for SBM\n",
    "sizes = [50, 50, 150]\n",
    "\n",
    "# intra- and inter-densities of edges between groups in SBM\n",
    "\n",
    "\n",
    "def pa(): return np.random.uniform(0, 0.1)\n",
    "\n",
    "\n",
    "def pb(): return np.random.uniform(0.2, 0.3)\n",
    "\n",
    "\n",
    "for p in tqdm(network_model_params):\n",
    "\n",
    "    b = 0.4\n",
    "    \n",
    "    probs = np.matrix([[b, p, p],\n",
    "                       [p, b, p],\n",
    "                       [p, p, b]])\n",
    "\n",
    "    # symmetrize the matrix\n",
    "    probs = np.maximum(probs, probs.T)\n",
    "\n",
    "    # generate random and power-law networks with n=500 and p=0.01, 0.02, ..., 0.10\n",
    "    generators = {\n",
    "        'random': nx.erdos_renyi_graph(n=num_nodes, p=p),\n",
    "        'powerlaw': nx.powerlaw_cluster_graph(n=num_nodes, m=2, p=p),\n",
    "        'sbm': nx.stochastic_block_model(sizes=sizes, p=np.array(probs))\n",
    "    }\n",
    "\n",
    "    for generator in generators.keys():\n",
    "\n",
    "        G = generators[generator]\n",
    "\n",
    "        be = nx.betweenness_centrality(G, k=None, normalized=True)\n",
    "        re = ne.randic_centrality(G, radius=radius, normalized=True)\n",
    "        ge = ne.graph_energy_centrality(G, radius=radius, normalized=True)\n",
    "        le = ne.laplacian_centrality(G, radius=radius, normalized=True)\n",
    "\n",
    "        _dict = {\n",
    "            'node': list(G.nodes),\n",
    "            'betweenness': list(be.values()),\n",
    "            'randic_energy': list(re.values()),\n",
    "            'graph_energy': list(ge.values()),\n",
    "            'laplacian_energy': list(le.values()),\n",
    "            'network_model': [generator] * G.number_of_nodes(),\n",
    "            'network_model_param': [p] * G.number_of_nodes()\n",
    "        }\n",
    "\n",
    "        _result = pd.DataFrame.from_dict(_dict)\n",
    "\n",
    "        results = pd.concat([results, _result], axis=0)"
   ]
  },
  {
   "cell_type": "code",
   "execution_count": null,
   "metadata": {
    "ExecuteTime": {
     "end_time": "2019-08-05T09:11:55.707108Z",
     "start_time": "2019-08-05T09:11:55.687790Z"
    }
   },
   "outputs": [],
   "source": [
    "print(results[[\n",
    "    'network_model',\n",
    "    'betweenness', \n",
    "    'randic_energy',\n",
    "    'graph_energy',\n",
    "    'laplacian_energy']].describe().round(4).to_latex())"
   ]
  },
  {
   "cell_type": "code",
   "execution_count": null,
   "metadata": {
    "ExecuteTime": {
     "end_time": "2019-08-05T09:11:57.045391Z",
     "start_time": "2019-08-05T09:11:57.011467Z"
    }
   },
   "outputs": [],
   "source": [
    "# what is the correlation between betweenness and randić energy for different models?\n",
    "_results = results.groupby(\n",
    "    ['network_model_param',\n",
    "     'network_model'])[['betweenness',\n",
    "                        'randic_energy', \n",
    "                        'graph_energy',\n",
    "                        'laplacian_energy']].corr(method='pearson').reset_index()\n",
    "\n",
    "# extract correlations for the two models\n",
    "powerlaw_idx = _results['network_model'] == 'powerlaw'\n",
    "random_idx = _results['network_model'] == 'random'\n",
    "sbm_idx = _results['network_model'] == 'sbm'\n",
    "\n",
    "powerlaw_corr = _results[powerlaw_idx]['betweenness'].tolist()\n",
    "random_corr = _results[random_idx]['betweenness'].tolist()\n",
    "sbm_corr = _results[sbm_idx]['betweenness'].tolist()\n",
    "\n",
    "# get additional columns with network model parameter and type of energy\n",
    "network_model_param = _results[random_idx]['network_model_param'].tolist()\n",
    "energy_idx = _results[random_idx]['level_2'].tolist()\n",
    "\n",
    "correlations = pd.DataFrame({'p': network_model_param, \n",
    "                             'energy': energy_idx,\n",
    "                             'powerlaw': powerlaw_corr, \n",
    "                             'random': random_corr,\n",
    "                             'sbm': sbm_corr})\n",
    "\n",
    "# melt the DataFrame to a format more suitable for drawing\n",
    "correlations_mlt = pd.melt(correlations[correlations['energy'] != 'betweenness'], \n",
    "                id_vars=['p','energy'], \n",
    "                value_vars=['powerlaw','random','sbm'], \n",
    "                var_name='network_model', \n",
    "                value_name='correlation')"
   ]
  },
  {
   "cell_type": "code",
   "execution_count": null,
   "metadata": {
    "ExecuteTime": {
     "end_time": "2019-08-05T09:12:00.430987Z",
     "start_time": "2019-08-05T09:11:58.801460Z"
    }
   },
   "outputs": [],
   "source": [
    "plt.style.use(['seaborn-white', 'seaborn-paper'])\n",
    "\n",
    "g = sns.FacetGrid(correlations_mlt, col='energy', hue='network_model', height=8)\n",
    "g.map(sns.lineplot, 'p', 'correlation')\n",
    "g.add_legend()"
   ]
  },
  {
   "cell_type": "code",
   "execution_count": null,
   "metadata": {
    "ExecuteTime": {
     "end_time": "2019-08-05T09:12:05.301299Z",
     "start_time": "2019-08-05T09:12:04.553031Z"
    }
   },
   "outputs": [],
   "source": [
    "plt.style.use(['seaborn-white', 'seaborn-paper'])\n",
    "\n",
    "fig, ax = plt.subplots(3, 1)\n",
    "\n",
    "for (i, model) in enumerate(['powerlaw','random','sbm']):\n",
    "    model_idx = correlations_mlt['network_model'] == model\n",
    "    plt.subplot(131+i)\n",
    "    sns.lineplot(data=correlations_mlt[model_idx], x='p', y='correlation', style='energy')"
   ]
  },
  {
   "cell_type": "markdown",
   "metadata": {},
   "source": [
    "# Visualization of graph energies centrality\n",
    "\n",
    "We visualize Randić, Laplacian and graph energy for the well-known Zachary karate club network. The energy of each vertex is denoted by its color and size. As can be seen, the correlation between these centralities is very high and they all provide similar information. Also, one can see that these centralities have strong preference to nodes that are either central to their cluster, or lying in between clusters."
   ]
  },
  {
   "cell_type": "code",
   "execution_count": null,
   "metadata": {
    "ExecuteTime": {
     "end_time": "2019-08-05T09:12:11.262874Z",
     "start_time": "2019-08-05T09:12:10.763691Z"
    }
   },
   "outputs": [],
   "source": [
    "from sklearn.preprocessing import MinMaxScaler\n",
    "minmax = MinMaxScaler()\n",
    "\n",
    "norm = lambda lst: minmax.fit_transform(np.asarray(lst, dtype=np.float32).\n",
    "                                        reshape(-1,1)).reshape(-1).tolist()\n",
    "\n",
    "g = nx.karate_club_graph()\n",
    "\n",
    "re = list(ne.randic_centrality(g).values())\n",
    "re = norm(re)\n",
    "\n",
    "le = list(ne.laplacian_centrality(g).values())\n",
    "le = norm(le)\n",
    "\n",
    "ge = list(ne.graph_energy_centrality(g).values())\n",
    "ge = norm(ge)\n",
    "\n",
    "plt.style.use(['seaborn-white', 'seaborn-paper'])\n",
    "\n",
    "sns.set(rc={'figure.figsize':(11.7,8.27)})\n",
    "\n",
    "fig, ax = plt.subplots(3,1)\n",
    "\n",
    "plt.subplot(131)\n",
    "options = { \n",
    "    'node_color': [d * 1 for d in ge], \n",
    "    'node_size': [(d * 1000)+50 for d in ge], \n",
    "    'cmap': plt.cm.Greys,\n",
    "    'edge_color': 'gray',\n",
    "    'edgecolors': 'black'\n",
    "}\n",
    "nx.draw_kamada_kawai(g, **options)\n",
    "plt.title('Graph energy')\n",
    "\n",
    "plt.subplot(132)\n",
    "options = { \n",
    "    'node_color': [d * 1 for d in le], \n",
    "    'node_size': [(d * 1000)+50 for d in le], \n",
    "    'cmap': plt.cm.Greys,\n",
    "    'edge_color': 'gray',\n",
    "    'edgecolors': 'black'\n",
    "}\n",
    "nx.draw_kamada_kawai(g, **options)\n",
    "plt.title('Laplacian energy')\n",
    "\n",
    "plt.subplot(133)\n",
    "options = { \n",
    "    'node_color': [d * 1 for d in re], \n",
    "    'node_size': [(d * 1000)+50 for d in re], \n",
    "    'cmap': plt.cm.Greys,\n",
    "    'edge_color': 'gray',\n",
    "    'edgecolors': 'black'\n",
    "}\n",
    "nx.draw_kamada_kawai(g, **options)\n",
    "plt.title('Randić energy')\n",
    "\n",
    "\n",
    "plt.show()"
   ]
  },
  {
   "cell_type": "markdown",
   "metadata": {},
   "source": [
    "# Regression modeling in synthetic networks\n",
    "\n",
    "As the next step we fit regression models and compute their accuracy in terms of\n",
    "\n",
    "  * Pearson, Spearman, and Kendall correlations\n",
    "  * mean absolute error\n",
    "  * mean squarred error\n",
    "  \n",
    "In the experiment we fit various regressors:\n",
    "\n",
    "- simple linear model\n",
    "- random forest regressor\n",
    "- gradient boosting regressor\n",
    "\n",
    "We collect the data from generative network models, and for each vertex we note its betweenness and its energies. Then, we fit these three regressors for networks generated for a particular value of the generative attribute."
   ]
  },
  {
   "cell_type": "code",
   "execution_count": null,
   "metadata": {
    "ExecuteTime": {
     "end_time": "2019-08-05T09:12:17.658049Z",
     "start_time": "2019-08-05T09:12:16.815808Z"
    }
   },
   "outputs": [],
   "source": [
    "from sklearn.linear_model import LinearRegression\n",
    "from sklearn.ensemble import RandomForestRegressor, GradientBoostingRegressor\n",
    "from sklearn.model_selection import train_test_split\n",
    "from sklearn.metrics import mean_absolute_error, mean_squared_error, r2_score\n",
    "from scipy.stats import pearsonr, spearmanr, kendalltau, rankdata\n",
    "\n",
    "regression_models = {\n",
    "    'linear model': LinearRegression(), \n",
    "    'random forest': RandomForestRegressor(), \n",
    "    'gradient boosting': GradientBoostingRegressor()\n",
    "}\n",
    "\n",
    "prediction_results = []\n",
    "\n",
    "for network_model in results['network_model'].unique():\n",
    "    for network_model_param in network_model_params:\n",
    "        \n",
    "        model_idx = results['network_model'] == network_model\n",
    "        param_idx = results['network_model_param'] == network_model_param\n",
    "        \n",
    "        df = results[ model_idx & param_idx]\n",
    "        \n",
    "        y = df['betweenness'].values\n",
    "        X = df[['randic_energy','graph_energy','laplacian_energy']].values\n",
    "        \n",
    "        X_train, X_test, y_train, y_test = train_test_split(X, y, test_size=0.33, random_state=42)\n",
    "        \n",
    "        for regression_model in regression_models:\n",
    "            \n",
    "            l_model = regression_models[regression_model]\n",
    "            \n",
    "            l_model.fit(X=X_train, y=y_train)\n",
    "            y_pred = l_model.predict(X_test)\n",
    "\n",
    "            y_ranked = rankdata(y_test, method='ordinal') \n",
    "            y_pred_ranked = rankdata(y_pred, method='ordinal')\n",
    "\n",
    "            _dict = {\n",
    "                'regression_model': regression_model,\n",
    "                'network_model': network_model,\n",
    "                'network_model_param': network_model_param,\n",
    "                'mae': mean_absolute_error(y_true=y_test, y_pred=y_pred),\n",
    "                'mse': mean_squared_error(y_true=y_test, y_pred=y_pred),\n",
    "                'r2': r2_score(y_test, y_pred),\n",
    "                'pearson': pearsonr(y_test, y_pred)[0],\n",
    "                'spearman': spearmanr(y_test, y_pred, axis=0, nan_policy='propagate')[0],\n",
    "                'kendall': kendalltau(y_ranked, y_pred_ranked, initial_lexsort=None, nan_policy='propagate')[0]\n",
    "            }\n",
    "\n",
    "            prediction_results.append(_dict)\n",
    "\n",
    "# convert the list of dicts into a DataFrame\n",
    "prediction_results = pd.DataFrame(prediction_results, \n",
    "             columns=['regression_model', \n",
    "                      'network_model',\n",
    "                      'network_model_param', \n",
    "                      'mae', \n",
    "                      'mse', \n",
    "                      'r2', \n",
    "                      'pearson', \n",
    "                      'spearman', \n",
    "                      'kendall'])\n",
    "\n",
    "# melt DataFrame to transform it into tidy format\n",
    "prediction_results_mlt = pd.melt(prediction_results,\n",
    "                             id_vars=['regression_model', 'network_model','network_model_param'], \n",
    "                             var_name='measure',\n",
    "                             value_name='value')"
   ]
  },
  {
   "cell_type": "code",
   "execution_count": null,
   "metadata": {
    "ExecuteTime": {
     "end_time": "2019-08-05T09:12:18.787698Z",
     "start_time": "2019-08-05T09:12:18.749811Z"
    }
   },
   "outputs": [],
   "source": [
    "df = pd.pivot_table(prediction_results_mlt.round(2), \n",
    "                    index=['network_model','regression_model'], \n",
    "                    columns='measure', \n",
    "                    values='value').rename_axis(None, axis=1)\n",
    "\n",
    "print(df[['mae','mse','kendall','spearman','pearson']].describe().round(4).to_latex())\n",
    "print(df[['mae','mse','kendall','spearman','pearson']].round(4).to_latex())"
   ]
  },
  {
   "cell_type": "markdown",
   "metadata": {},
   "source": [
    "## Visualization of the relationship between vertex betweenness and vertex energies in random synthetic networks\n",
    "\n",
    "The following figures show the linear model predicting vertex betweenness based on graph energy, Randić energy, and Laplacian energy for random and powerlaw networks for a fixed value of the generative parameter. The value of the parameter is drawn randomly from the entire domain of the parameter."
   ]
  },
  {
   "cell_type": "code",
   "execution_count": null,
   "metadata": {
    "ExecuteTime": {
     "end_time": "2019-08-05T09:12:25.715925Z",
     "start_time": "2019-08-05T09:12:23.309928Z"
    }
   },
   "outputs": [],
   "source": [
    "network_model = 'random'\n",
    "network_model_param = np.random.choice(network_model_params)\n",
    "\n",
    "plt.style.use(['seaborn-white', 'seaborn-paper'])\n",
    "\n",
    "sns.jointplot(x='randic_energy',\n",
    "              y='betweenness', \n",
    "              data=results[(results['network_model'] == network_model) \n",
    "                           & (results['network_model_param'] == network_model_param)], \n",
    "              kind='reg',\n",
    "              color='k'\n",
    "             )\n",
    "\n",
    "sns.jointplot(x='graph_energy', \n",
    "              y='betweenness',\n",
    "              data=results[(results['network_model'] == network_model) \n",
    "                           & (results['network_model_param'] == network_model_param)], \n",
    "              kind=\"reg\", \n",
    "              color=\"k\")\n",
    "\n",
    "sns.jointplot(x='laplacian_energy', \n",
    "              y='betweenness',\n",
    "              data=results[(results['network_model'] == network_model) \n",
    "                           & (results['network_model_param'] == network_model_param)], \n",
    "              kind=\"reg\", \n",
    "              color=\"k\")"
   ]
  },
  {
   "cell_type": "code",
   "execution_count": null,
   "metadata": {
    "ExecuteTime": {
     "end_time": "2019-08-05T09:12:32.369708Z",
     "start_time": "2019-08-05T09:12:29.497763Z"
    }
   },
   "outputs": [],
   "source": [
    "network_model = 'powerlaw'\n",
    "network_model_param = np.random.choice(network_model_params)\n",
    "\n",
    "sns.jointplot(x='randic_energy',\n",
    "              y='betweenness', \n",
    "              data=results[(results['network_model'] == network_model) \n",
    "                           & (results['network_model_param'] == network_model_param)], \n",
    "              kind='reg',\n",
    "              color='k'\n",
    "             )\n",
    "\n",
    "sns.jointplot(x='graph_energy', \n",
    "              y='betweenness',\n",
    "              data=results[(results['network_model'] == network_model) \n",
    "                           & (results['network_model_param'] == network_model_param)], \n",
    "              kind='reg',\n",
    "              color='k'\n",
    "             )\n",
    "\n",
    "sns.jointplot(x='laplacian_energy', \n",
    "              y='betweenness',\n",
    "              data=results[(results['network_model'] == network_model) \n",
    "                           & (results['network_model_param'] == network_model_param)], \n",
    "              kind='reg',\n",
    "              color='k'\n",
    "             )\n"
   ]
  },
  {
   "cell_type": "code",
   "execution_count": null,
   "metadata": {
    "ExecuteTime": {
     "end_time": "2019-08-05T09:12:37.915343Z",
     "start_time": "2019-08-05T09:12:35.439417Z"
    }
   },
   "outputs": [],
   "source": [
    "network_model = 'sbm'\n",
    "network_model_param = np.random.choice(network_model_params)\n",
    "\n",
    "sns.jointplot(x='randic_energy', \n",
    "              y='betweenness', \n",
    "              data=results[(results['network_model'] == network_model)\n",
    "                          & (results['network_model_param'] == network_model_param)], \n",
    "              kind='reg', \n",
    "              color='k'\n",
    "             )\n",
    "\n",
    "sns.jointplot(x='graph_energy', \n",
    "              y='betweenness',\n",
    "              data=results[(results['network_model'] == network_model)\n",
    "                          & (results['network_model_param'] == network_model_param)], \n",
    "              kind='reg',\n",
    "              color='k'\n",
    "             )\n",
    "\n",
    "sns.jointplot(x='laplacian_energy', \n",
    "              y='betweenness',\n",
    "              data=results[(results['network_model'] == network_model)\n",
    "                          & (results['network_model_param'] == network_model_param)], \n",
    "              kind='reg',\n",
    "              color='k'\n",
    "             )\n"
   ]
  },
  {
   "cell_type": "markdown",
   "metadata": {},
   "source": [
    "## Regression modeling for vertex betweenness and vertex energies in random synthetic networks"
   ]
  },
  {
   "cell_type": "markdown",
   "metadata": {},
   "source": [
    "Below we present correlation measures (Pearson, Spearman, Kendall) which describe the relationship of betweenness and vertex energies (Randic, Laplacian and Graph). We randomly select the value of the network generator parameter and repeat the correlation computation, averaging the results over 1000 runs."
   ]
  },
  {
   "cell_type": "code",
   "execution_count": null,
   "metadata": {
    "ExecuteTime": {
     "end_time": "2019-08-05T09:13:10.502884Z",
     "start_time": "2019-08-05T09:12:45.182014Z"
    }
   },
   "outputs": [],
   "source": [
    "result = []\n",
    "\n",
    "number_of_runs = 1000\n",
    "\n",
    "\n",
    "for network_model in results.network_model.unique():\n",
    "    for run in tqdm(range(number_of_runs)):\n",
    "        \n",
    "        network_model_param = np.random.choice(network_model_params)\n",
    "\n",
    "        network_model_idx = results['network_model'] == network_model\n",
    "        network_model_param_idx = results['network_model_param'] == network_model_param\n",
    "\n",
    "        for method in ['kendall','spearman','pearson']:\n",
    "\n",
    "            _corr = results[network_model_idx & network_model_param_idx][\n",
    "                ['betweenness',\n",
    "                 'randic_energy',\n",
    "                 'graph_energy',\n",
    "                 'laplacian_energy']].corr(method=method)\n",
    "            \n",
    "            result.append((network_model, \n",
    "                           network_model_param, \n",
    "                           method, \n",
    "                           _corr.betweenness['randic_energy'], \n",
    "                           _corr.betweenness['graph_energy'],\n",
    "                           _corr.betweenness['laplacian_energy']))\n",
    "        \n",
    "correlations = pd.DataFrame(result, \n",
    "                            columns=['network_model', \n",
    "                                     'network_model_param',\n",
    "                                     'method', \n",
    "                                     'BRC', \n",
    "                                     'BGC',\n",
    "                                     'BLC'])"
   ]
  },
  {
   "cell_type": "code",
   "execution_count": null,
   "metadata": {
    "ExecuteTime": {
     "end_time": "2019-08-05T09:13:11.519969Z",
     "start_time": "2019-08-05T09:13:11.510360Z"
    }
   },
   "outputs": [],
   "source": [
    "print(correlations[[\n",
    "    'network_model', \n",
    "    'method', \n",
    "    'BRC', \n",
    "    'BGC', \n",
    "    'BLC']].groupby([\n",
    "        'network_model', \n",
    "        'method']).mean().to_latex())"
   ]
  },
  {
   "cell_type": "code",
   "execution_count": null,
   "metadata": {
    "ExecuteTime": {
     "end_time": "2019-08-05T09:13:15.126171Z",
     "start_time": "2019-08-05T09:13:15.118266Z"
    }
   },
   "outputs": [],
   "source": [
    "# melt DataFrame to transform it into tidy format\n",
    "correlations_mlt = pd.melt(correlations,\n",
    "                             id_vars=['network_model','network_model_param', 'method'], \n",
    "                             var_name='measure',\n",
    "                             value_name='correlation')"
   ]
  },
  {
   "cell_type": "code",
   "execution_count": null,
   "metadata": {
    "ExecuteTime": {
     "end_time": "2019-08-05T09:13:25.063838Z",
     "start_time": "2019-08-05T09:13:15.718084Z"
    }
   },
   "outputs": [],
   "source": [
    "sns.reset_defaults()\n",
    "\n",
    "g = sns.FacetGrid(correlations_mlt, col='network_model', row='measure', hue='method', height=5, sharey=False)\n",
    "g.map(sns.lineplot, 'network_model_param', 'correlation')\n",
    "g.add_legend()"
   ]
  },
  {
   "cell_type": "markdown",
   "metadata": {},
   "source": [
    "# Empirical networks\n",
    "\n",
    "In this experiment we are trying to verify if the relationship between vertex energies and vertex betweenness holds also in empirical networks. We download a set of networks from the Koblenz network repository and compute the basic statistics of these networks."
   ]
  },
  {
   "cell_type": "code",
   "execution_count": 143,
   "metadata": {
    "ExecuteTime": {
     "end_time": "2019-08-06T00:44:06.104133Z",
     "start_time": "2019-08-06T00:44:04.523648Z"
    }
   },
   "outputs": [],
   "source": [
    "import network_utils as nu\n",
    "from network_utils import NetworkDict, Dataset\n",
    "\n",
    "MIN_NODES, MAX_NODES = 50, 10000\n",
    "MIN_DENSITY, MAX_DENSITY = 0.01, 0.9\n",
    "BIPARTITE = False\n",
    "\n",
    "networks_raw = list(nu.read_available_datasets_konect(name='konect.cc').filter(\n",
    "    bipartite=BIPARTITE, min_size=MIN_NODES, max_size=MAX_NODES))\n",
    "\n",
    "tabu_list = ['contact', 'sociopatterns-infectious', 'opsahl-ucsocial', 'wiki_talk_ht', 'wiki_talk_cy', \n",
    "             'wiki_talk_oc', 'wiki_talk_br', 'sociopatterns-hypertext', 'soc-sign-bitcoinalpha',\n",
    "             'dnc-temporalGraph', 'wiki_talk_eo', 'soc-sign-bitcoinotc', 'wiki_talk_gl', 'chess', 'radoslaw_email',\n",
    "             'elec', 'mit'\n",
    "\n",
    "            ]\n",
    "networks_raw = [n for n in networks_raw if n.network_name not in tabu_list]"
   ]
  },
  {
   "cell_type": "code",
   "execution_count": 144,
   "metadata": {
    "ExecuteTime": {
     "end_time": "2019-08-06T00:44:06.109103Z",
     "start_time": "2019-08-06T00:44:06.105876Z"
    }
   },
   "outputs": [
    {
     "data": {
      "text/plain": [
       "82"
      ]
     },
     "execution_count": 144,
     "metadata": {},
     "output_type": "execute_result"
    }
   ],
   "source": [
    "len(networks_raw)"
   ]
  },
  {
   "cell_type": "code",
   "execution_count": 145,
   "metadata": {
    "ExecuteTime": {
     "end_time": "2019-08-06T00:44:24.146470Z",
     "start_time": "2019-08-06T00:44:06.110827Z"
    }
   },
   "outputs": [
    {
     "data": {
      "application/vnd.jupyter.widget-view+json": {
       "model_id": "6e3d3e4d267a4eb8af6fdc74cb9a49e7",
       "version_major": 2,
       "version_minor": 0
      },
      "text/plain": [
       "HBox(children=(IntProgress(value=0, max=82), HTML(value='')))"
      ]
     },
     "metadata": {},
     "output_type": "display_data"
    },
    {
     "name": "stdout",
     "output_type": "stream",
     "text": [
      "iceland\n",
      "dolphins\n",
      "maayan-pdzbase\n",
      "moreno_train\n",
      "gene_fusion\n",
      "moreno_lesmis\n",
      "adjnoun_adjacency\n",
      "dimacs10-polbooks\n",
      "moreno_highschool\n",
      "dimacs10-football\n",
      "dbpedia-similar\n",
      "convote\n",
      "moreno_innovation\n",
      "moreno_mac\n",
      "subelj_euroroad\n",
      "librec-filmtrust-trust\n",
      "dimacs10-celegans_metabolic\n",
      "arenas-jazz\n",
      "moreno_propro\n",
      "maayan-foodweb\n",
      "dimacs10-netscience\n",
      "maayan-faa\n",
      "moreno_oz\n",
      "ego-facebook\n",
      "asoiaf\n",
      "arenas-meta\n",
      "petster-hamster-household\n",
      "dimacs10-celegansneural\n",
      "arenas-email\n",
      "foodweb-baywet\n",
      "foodweb-baydry\n",
      "maayan-Stelzl\n",
      "maayan-vidal\n",
      "maayan-figeys\n",
      "opsahl-powergrid\n",
      "moreno_names\n",
      "petster-friendships-hamster\n",
      "pajek-erdos\n",
      "petster-hamster-friend\n",
      "as20000102\n",
      "dnc-corecipient\n",
      "petster-hamster\n",
      "moreno_health\n",
      "moreno_blogs\n",
      "p2p-Gnutella08\n",
      "p2p-Gnutella09\n",
      "dimacs10-polblogs\n",
      "opsahl-openflights\n",
      "p2p-Gnutella06\n",
      "p2p-Gnutella05\n",
      "opsahl-usairport\n",
      "librec-ciaodvd-trust\n",
      "advogato\n",
      "openflights\n",
      "wikipedia_link_gag\n",
      "wikipedia_link_lo\n",
      "wikipedia_link_mi\n",
      "wikipedia_link_so\n",
      "wikipedia_link_vls\n",
      "subelj_jung-j\n",
      "subelj_jdk\n",
      "wikipedia_link_myv\n",
      "wikipedia_link_gv\n",
      "wikipedia_link_tk\n",
      "reactome\n",
      "wikipedia_link_csb\n",
      "wikipedia_link_crh\n",
      "wikipedia_link_co\n",
      "wikipedia_link_gan\n",
      "wikipedia_link_rue\n",
      "wikipedia_link_lez\n",
      "wikipedia_link_dv\n",
      "wikipedia_link_kv\n",
      "wikipedia_link_xal\n",
      "wikipedia_link_pam\n",
      "wikipedia_link_fiu_vro\n",
      "wikipedia_link_se\n",
      "wikispeedia\n",
      "wikipedia_link_hif\n",
      "wikipedia_link_glk\n",
      "wikipedia_link_bcl\n",
      "wikipedia_link_nso\n"
     ]
    }
   ],
   "source": [
    "networks = []\n",
    "\n",
    "for n in tqdm(networks_raw):\n",
    "\n",
    "    network = Dataset(network_name=n.network_name, \n",
    "                      category=n.category, \n",
    "                      num_nodes=n.num_nodes, \n",
    "                      num_edges=n.num_edges,\n",
    "                      directed=n.directed,\n",
    "                      bipartite=n.bipartite,\n",
    "                      tsv_url=n.tsv_url\n",
    "                     )\n",
    "    \n",
    "    if network.network_name not in tabu_list:\n",
    "        \n",
    "        networks.append(nu.build_network_from_out_konect(network_name=network.network_name, \n",
    "                                                     tsv_url=network.tsv_url,\n",
    "                                                     directed=network.directed,\n",
    "                                                     dir_name=f'data/'))"
   ]
  },
  {
   "cell_type": "markdown",
   "metadata": {},
   "source": [
    "## Show the density ratio where our method beats SOTA\n",
    "\n",
    "Our initial analysis points to a certain area of the (#vertices, avg.degree) parameter space, where our method of betweenness estimation should perform better than the best currently known exact algorithm of betweenness estimation. "
   ]
  },
  {
   "cell_type": "code",
   "execution_count": 147,
   "metadata": {
    "ExecuteTime": {
     "end_time": "2019-08-06T00:44:53.702772Z",
     "start_time": "2019-08-06T00:44:51.251558Z"
    }
   },
   "outputs": [
    {
     "data": {
      "image/png": "[encoded data removed]",
      "text/plain": [
       "<Figure size 460.8x316.8 with 1 Axes>"
      ]
     },
     "metadata": {},
     "output_type": "display_data"
    }
   ],
   "source": [
    "x = range(1, max([nx.number_of_nodes(n) for n in networks]))\n",
    "y1 = np.power(x * np.log(x), 1 / 3)\n",
    "y2 = np.power(x, 2 / 3)\n",
    "\n",
    "df = pd.DataFrame({\n",
    "    'num vertices': x,\n",
    "    'best limit': y1,\n",
    "    'naive limit': y2\n",
    "}).melt(\n",
    "    id_vars=['num vertices'], var_name='average degree limit')\n",
    "\n",
    "# sns.set(rc={'figure.figsize': (11.7, 8.27)})\n",
    "plt.style.use(['seaborn-white', 'seaborn-paper'])\n",
    "\n",
    "figure = sns.lineplot(\n",
    "    data=df, x='num vertices', y='value', style='average degree limit')\n",
    "\n",
    "plt.xlabel('number of vertices')\n",
    "plt.ylabel('average vertex degree')\n",
    "\n",
    "ax = sns.regplot(\n",
    "    x=[nx.number_of_nodes(n) for n in networks],\n",
    "    y=[2*nx.number_of_edges(n)/nx.number_of_nodes(n) for n in networks],\n",
    "    scatter=True,\n",
    "    fit_reg=False,\n",
    "    marker='o',\n",
    "    color='black',\n",
    "    scatter_kws={\"s\": 25})\n",
    "# the \"s\" key in `scatter_kws` modifies the size of the marker\n",
    "\n",
    "network_data_labels = [\n",
    "    (nx.number_of_nodes(n), 2*nx.number_of_edges(n)/nx.number_of_nodes(n), n.name)\n",
    "    for n\n",
    "    in networks\n",
    "]\n",
    "\n",
    "sns.set(font_scale=0.75)\n",
    "[\n",
    "    ax.text(p[0] + 2, p[1] + 3, p[2])\n",
    "    for p in network_data_labels\n",
    "    if p[1] > 50\n",
    "]\n",
    "\n",
    "plt.show(figure)"
   ]
  },
  {
   "cell_type": "markdown",
   "metadata": {},
   "source": [
    "## Compute the correlation of betweenness and egocentric energies"
   ]
  },
  {
   "cell_type": "markdown",
   "metadata": {},
   "source": [
    "Firstly we calculate betweenness and energy measures for each vertex"
   ]
  },
  {
   "cell_type": "code",
   "execution_count": 94,
   "metadata": {
    "ExecuteTime": {
     "end_time": "2019-08-05T11:15:35.562034Z",
     "start_time": "2019-08-05T10:20:02.924426Z"
    },
    "scrolled": true
   },
   "outputs": [
    {
     "data": {
      "application/vnd.jupyter.widget-view+json": {
       "model_id": "eedd621daeac4e1a8fd33f47ed0f94aa",
       "version_major": 2,
       "version_minor": 0
      },
      "text/plain": [
       "HBox(children=(IntProgress(value=1, bar_style='info', max=1), HTML(value='')))"
      ]
     },
     "metadata": {},
     "output_type": "display_data"
    },
    {
     "name": "stdout",
     "output_type": "stream",
     "text": [
      "\n"
     ]
    }
   ],
   "source": [
    "real_data_measures = pd.DataFrame(columns=['node',\n",
    "                                           'value_type',\n",
    "                                           'value',\n",
    "                                           'network',\n",
    "                                           'category',\n",
    "                                           'num_nodes',\n",
    "                                           'num_edges'])\n",
    "\n",
    "for (i, n) in tqdm(enumerate(networks_raw)):\n",
    "\n",
    "    be = nx.betweenness_centrality(networks[i], k=None, normalized=True)\n",
    "    tmp_df = pd.DataFrame({'node': [k for k,v in be.items()],\n",
    "                           'value_type': ['betweenness' for i in be.items()],\n",
    "                           'value': [v for k,v in be.items()],\n",
    "                           'network': [n.network_name for j in be.items()],\n",
    "                           'category': [n.category for j in be.items()],\n",
    "                           'num_nodes': [n.num_nodes for j in be.items()],\n",
    "                           'num_edges': [n.num_edges for j in be.items()]\n",
    "                           })\n",
    "    real_data_measures = pd.concat([real_data_measures, tmp_df])\n",
    "\n",
    "    re = ne.randic_centrality(networks[i], normalized=True)\n",
    "    tmp_df = pd.DataFrame({'node': [k for k,v in re.items()],\n",
    "                           'value_type': ['randic' for i in re.items()],\n",
    "                           'value': [v for k,v in re.items()],\n",
    "                           'network': [n.network_name for j in be.items()],\n",
    "                           'category': [n.category for j in be.items()],\n",
    "                           'num_nodes': [n.num_nodes for j in be.items()],\n",
    "                           'num_edges': [n.num_edges for j in be.items()]\n",
    "                           })\n",
    "    real_data_measures = pd.concat([real_data_measures, tmp_df])\n",
    "\n",
    "    ge = ne.graph_energy_centrality(networks[i], normalized=True)\n",
    "    tmp_df = pd.DataFrame({'node': [k for k,v in ge.items()],\n",
    "                           'value_type': ['graph' for i in ge.items()],\n",
    "                           'value': [v for k,v in ge.items()],\n",
    "                           'network': [n.network_name for j in be.items()],\n",
    "                           'category': [n.category for j in be.items()],\n",
    "                           'num_nodes': [n.num_nodes for j in be.items()],\n",
    "                           'num_edges': [n.num_edges for j in be.items()]\n",
    "                           })\n",
    "    real_data_measures = pd.concat([real_data_measures, tmp_df])\n",
    "\n",
    "    le = ne.laplacian_centrality(networks[i], normalized=True)\n",
    "    tmp_df = pd.DataFrame({'node': [k for k,v in le.items()],\n",
    "                           'value_type': ['laplacian' for i in le.items()],\n",
    "                           'value': [v for k,v in le.items()],\n",
    "                           'network': [n.network_name for j in be.items()],\n",
    "                           'category': [n.category for j in be.items()],\n",
    "                           'num_nodes': [n.num_nodes for j in be.items()],\n",
    "                           'num_edges': [n.num_edges for j in be.items()]\n",
    "                           })\n",
    "    real_data_measures = pd.concat([real_data_measures, tmp_df])\n",
    "    \n",
    "real_data_measures.to_pickle('./real_data_measures.pickle')"
   ]
  },
  {
   "cell_type": "code",
   "execution_count": 96,
   "metadata": {
    "ExecuteTime": {
     "end_time": "2019-08-05T11:23:25.101506Z",
     "start_time": "2019-08-05T11:23:25.090524Z"
    }
   },
   "outputs": [],
   "source": [
    "def evaluate_results(network, y, y_pred, energy_name):\n",
    "\n",
    "    y_ranked = scipy.stats.rankdata(y, method='ordinal')  # może metoda average\n",
    "    y_pred_ranked = scipy.stats.rankdata(y_pred, method='ordinal')\n",
    "    \n",
    "    real_prediction_results = pd.DataFrame(\n",
    "        columns=[\n",
    "            'network', \n",
    "            'category', \n",
    "            'num_nodes',\n",
    "            'num_edges',\n",
    "            'error_type', \n",
    "            'error_value',\n",
    "            'energy'\n",
    "        ]\n",
    "    )\n",
    "\n",
    "    mae = sklearn.metrics.mean_absolute_error(y_true=y, y_pred=y_pred)\n",
    "    tmp_df = pd.DataFrame({\n",
    "        'network': [network.network_name],\n",
    "        'category': [network.category],\n",
    "        'num_nodes': [network.num_nodes],\n",
    "        'num_edges': [network.num_edges],\n",
    "        'error_type': ['MAE'],\n",
    "        'error_value': [mae],\n",
    "        'energy': [energy_name]\n",
    "    })\n",
    "    real_prediction_results = pd.concat([real_prediction_results, tmp_df])\n",
    "\n",
    "    mse = sklearn.metrics.mean_squared_error(y_true=y, y_pred=y_pred)\n",
    "    tmp_df = pd.DataFrame({\n",
    "        'network': [network.network_name],\n",
    "        'category': [network.category],\n",
    "        'num_nodes': [network.num_nodes],\n",
    "        'num_edges': [network.num_edges],\n",
    "        'error_type': ['MSE'],\n",
    "        'error_value': [mse],\n",
    "        'energy': [energy_name]\n",
    "    })\n",
    "    real_prediction_results = pd.concat([real_prediction_results, tmp_df])\n",
    "\n",
    "    r2 = sklearn.metrics.r2_score(y_true=y, y_pred=y_pred)\n",
    "    tmp_df = pd.DataFrame({\n",
    "        'network': [network.network_name],\n",
    "        'category': [network.category],\n",
    "        'num_nodes': [network.num_nodes],\n",
    "        'num_edges': [network.num_edges],\n",
    "        'error_type': ['r2'],\n",
    "        'error_value': [r2],\n",
    "        'energy': [energy_name]\n",
    "    })\n",
    "    real_prediction_results = pd.concat([real_prediction_results, tmp_df])\n",
    "    \n",
    "    pearson, _ = scipy.stats.pearsonr(x=y, y=y_pred)\n",
    "    tmp_df = pd.DataFrame({\n",
    "        'network': [network.network_name],\n",
    "        'category': [network.category],\n",
    "        'num_nodes': [network.num_nodes],\n",
    "        'num_edges': [network.num_edges],\n",
    "        'error_type': ['pearson'],\n",
    "        'error_value': [pearson],\n",
    "        'energy': [energy_name]\n",
    "    })\n",
    "    real_prediction_results = pd.concat([real_prediction_results, tmp_df])\n",
    "\n",
    "    spearman, _ = scipy.stats.spearmanr(\n",
    "        a=y, b=y_pred, axis=0, nan_policy='propagate')\n",
    "    tmp_df = pd.DataFrame({\n",
    "        'network': [network.network_name],\n",
    "        'category': [network.category],\n",
    "        'num_nodes': [network.num_nodes],\n",
    "        'num_edges': [network.num_edges],\n",
    "        'error_type': ['spearman'],\n",
    "        'error_value': [spearman],\n",
    "        'energy': [energy_name]\n",
    "    })\n",
    "    real_prediction_results = pd.concat([real_prediction_results, tmp_df])\n",
    "\n",
    "    kendall, _ = scipy.stats.kendalltau(\n",
    "        x=y_ranked, y=y_pred_ranked, initial_lexsort=None, nan_policy='propagate')\n",
    "    tmp_df = pd.DataFrame({\n",
    "        'network': [network.network_name],\n",
    "        'category': [network.category],\n",
    "        'num_nodes': [network.num_nodes],\n",
    "        'num_edges': [network.num_edges],\n",
    "        'error_type': ['kendall'],\n",
    "        'error_value': [kendall],\n",
    "        'energy': [energy_name]\n",
    "    })\n",
    "    real_prediction_results = pd.concat([real_prediction_results, tmp_df])\n",
    "\n",
    "    return real_prediction_results"
   ]
  },
  {
   "cell_type": "markdown",
   "metadata": {},
   "source": [
    "## Compute RandomForest model for predicting vertex betweenness\n",
    "\n",
    "Next step is to use data on vertex betweenness and vertex energy to build RandomForest models for predicting betweenness from local egocentric network energy"
   ]
  },
  {
   "cell_type": "code",
   "execution_count": 97,
   "metadata": {
    "ExecuteTime": {
     "end_time": "2019-08-05T11:23:30.741174Z",
     "start_time": "2019-08-05T11:23:27.193863Z"
    }
   },
   "outputs": [
    {
     "data": {
      "application/vnd.jupyter.widget-view+json": {
       "model_id": "a6fa55e3a7c6483da15a10a2361a0203",
       "version_major": 2,
       "version_minor": 0
      },
      "text/plain": [
       "HBox(children=(IntProgress(value=1, bar_style='info', max=1), HTML(value='')))"
      ]
     },
     "metadata": {},
     "output_type": "display_data"
    },
    {
     "name": "stdout",
     "output_type": "stream",
     "text": [
      "\n"
     ]
    }
   ],
   "source": [
    "from sklearn.ensemble import RandomForestRegressor\n",
    "from sklearn.linear_model import LinearRegression\n",
    "from sklearn.model_selection import train_test_split\n",
    "\n",
    "models = []\n",
    "\n",
    "df = pd.DataFrame(columns=[\n",
    "    'network', \n",
    "    'category', \n",
    "    'num_nodes',\n",
    "    'num_edges',\n",
    "    'error_type', \n",
    "    'error_value'\n",
    "])\n",
    "\n",
    "real_data_measures = real_data_measures.dropna()\n",
    "\n",
    "for i,G in tqdm(enumerate(networks)):\n",
    "\n",
    "    l_model = RandomForestRegressor()\n",
    "\n",
    "    y = real_data_measures[(real_data_measures['network'] == G.graph['name']) &\n",
    "                           (real_data_measures['value_type'] == 'betweenness')\n",
    "                           ]['value'].values\n",
    "\n",
    "    for energy_name in ['graph','laplacian','randic']:\n",
    "        \n",
    "        X = real_data_measures[(real_data_measures['network'] == G.graph['name']) &\n",
    "                               (real_data_measures['value_type'] == energy_name)\n",
    "                               ]['value'].values\n",
    "        \n",
    "        if X.shape[0] > 0:\n",
    "\n",
    "            X_train, X_test, y_train, y_test = train_test_split(\n",
    "                X, y, test_size=0.2, random_state=42)\n",
    "\n",
    "            l_model.fit(X_train.reshape(-1, 1), y_train)\n",
    "\n",
    "            models.append(l_model)\n",
    "\n",
    "            y_pred = l_model.predict(X_test.reshape(-1, 1))\n",
    "\n",
    "            df = pd.concat(\n",
    "                [df, evaluate_results(networks_raw[i], y_test, y_pred, energy_name)])\n",
    "\n",
    "df.to_pickle('./real_prediction_results.pickle')"
   ]
  },
  {
   "cell_type": "code",
   "execution_count": 98,
   "metadata": {
    "ExecuteTime": {
     "end_time": "2019-08-05T11:23:31.847995Z",
     "start_time": "2019-08-05T11:23:31.844420Z"
    }
   },
   "outputs": [],
   "source": [
    "df = pd.read_pickle('./real_prediction_results.pickle')"
   ]
  },
  {
   "cell_type": "code",
   "execution_count": 99,
   "metadata": {
    "ExecuteTime": {
     "end_time": "2019-08-05T11:23:33.217984Z",
     "start_time": "2019-08-05T11:23:33.201891Z"
    }
   },
   "outputs": [],
   "source": [
    "df = pd.pivot_table(df.round(3), \n",
    "                    index=['category','network','num_nodes','num_edges','energy'], \n",
    "                    columns='error_type', \n",
    "                    values='error_value').rename_axis(None, axis=1).reset_index()"
   ]
  },
  {
   "cell_type": "code",
   "execution_count": 100,
   "metadata": {
    "ExecuteTime": {
     "end_time": "2019-08-05T11:23:34.658695Z",
     "start_time": "2019-08-05T11:23:34.599935Z"
    }
   },
   "outputs": [
    {
     "name": "stdout",
     "output_type": "stream",
     "text": [
      "laplacian\n",
      "         MAE    MSE     r2  kendall  spearman  pearson\n",
      "count  39.00  39.00  39.00    39.00     39.00    39.00\n",
      "mean    0.01   0.00  -2.36     0.35      0.45     0.45\n",
      "std     0.01   0.00   8.50     0.23      0.26     0.32\n",
      "min     0.00   0.00 -50.29    -0.22     -0.18    -0.13\n",
      "25%     0.00   0.00  -0.43     0.22      0.34     0.24\n",
      "50%     0.00   0.00  -0.01     0.33      0.48     0.47\n",
      "75%     0.01   0.00   0.26     0.47      0.60     0.71\n",
      "max     0.08   0.01   0.92     0.79      0.93     0.99\n",
      "graph\n",
      "         MAE   MSE     r2  kendall  spearman  pearson\n",
      "count  24.00  24.0  24.00    24.00     24.00    24.00\n",
      "mean    0.01   0.0  -7.20     0.34      0.44     0.38\n",
      "std     0.01   0.0  21.89     0.20      0.27     0.32\n",
      "min     0.00   0.0 -87.91    -0.20     -0.26    -0.28\n",
      "25%     0.00   0.0  -0.81     0.25      0.36     0.17\n",
      "50%     0.01   0.0  -0.12     0.31      0.43     0.35\n",
      "75%     0.01   0.0   0.18     0.47      0.62     0.62\n",
      "max     0.03   0.0   0.56     0.70      0.85     0.88\n",
      "randic\n",
      "         MAE   MSE     r2  kendall  spearman  pearson\n",
      "count  24.00  24.0  24.00    24.00     24.00    24.00\n",
      "mean    0.01   0.0  -1.12     0.33      0.42     0.43\n",
      "std     0.01   0.0   2.69     0.25      0.30     0.34\n",
      "min     0.00   0.0 -10.24    -0.20     -0.26    -0.21\n",
      "25%     0.00   0.0  -0.95     0.20      0.24     0.11\n",
      "50%     0.00   0.0  -0.06     0.30      0.42     0.47\n",
      "75%     0.01   0.0   0.45     0.48      0.61     0.73\n",
      "max     0.04   0.0   0.65     0.78      0.89     0.94\n"
     ]
    }
   ],
   "source": [
    "for energy in df.energy.unique():\n",
    "    \n",
    "    energy_idx = df['energy'] == energy\n",
    "\n",
    "    print(energy)\n",
    "    print(df[energy_idx][['MAE','MSE','r2','kendall','spearman','pearson']].describe().round(2))"
   ]
  },
  {
   "cell_type": "markdown",
   "metadata": {},
   "source": [
    "## Compute precision@k measures for prediction\n",
    "\n",
    "In this experiment we compute rankings of nodes based on their true and estimated betweenness, and we compare these rankings using precision@k measure for k=1, 10, 100. We are interested to see what percentage of \"important\" nodes we can extract using our method."
   ]
  },
  {
   "cell_type": "code",
   "execution_count": null,
   "metadata": {
    "ExecuteTime": {
     "end_time": "2019-02-03T20:19:34.858373Z",
     "start_time": "2019-02-03T20:17:35.322112Z"
    }
   },
   "outputs": [],
   "source": [
    "results = []\n",
    "\n",
    "for network in tqdm(networks[:110]):\n",
    "\n",
    "    be = nx.betweenness_centrality(network.graph)\n",
    "    ge = ne.graph_energy_centrality(network.graph)\n",
    "    le = ne.laplacian_centrality(network.graph)\n",
    "    re = ne.randic_centrality(network.graph)\n",
    "    \n",
    "    for (energy_name, energy_values) in [('graph', ge), ('laplacian', le), ('randić', re)]:\n",
    "\n",
    "        ranking_true = sorted(be, key=be.get, reverse=True)\n",
    "        ranking_pred = sorted(energy_values, key=energy_values.get, reverse=True)\n",
    "\n",
    "        results.append(\n",
    "            (\n",
    "                network.category,\n",
    "                network.name,\n",
    "                energy_name,\n",
    "                nu.precision_at_k(y_true=ranking_true, y_pred=ranking_pred, k=1),\n",
    "                nu.precision_at_k(y_true=ranking_true, y_pred=ranking_pred, k=10),\n",
    "                nu.precision_at_k(y_true=ranking_true, y_pred=ranking_pred, k=100)\n",
    "            )\n",
    "        )"
   ]
  },
  {
   "cell_type": "code",
   "execution_count": null,
   "metadata": {
    "ExecuteTime": {
     "end_time": "2019-02-03T20:19:40.793591Z",
     "start_time": "2019-02-03T20:19:40.780072Z"
    }
   },
   "outputs": [],
   "source": [
    "df = pd.DataFrame(results,\n",
    "                  columns=[\n",
    "                      'category',\n",
    "                      'network',\n",
    "                      'energy',\n",
    "                      'precision@1',\n",
    "                      'precision@10',\n",
    "                      'precision@100'\n",
    "                  ])\n",
    "\n",
    "df.to_pickle('./real_precision_at_k.pickle')"
   ]
  },
  {
   "cell_type": "code",
   "execution_count": null,
   "metadata": {
    "ExecuteTime": {
     "end_time": "2019-02-03T20:19:44.086708Z",
     "start_time": "2019-02-03T20:19:44.077571Z"
    }
   },
   "outputs": [],
   "source": [
    "df = pd.read_pickle('./real_precision_at_k.pickle')"
   ]
  },
  {
   "cell_type": "code",
   "execution_count": null,
   "metadata": {
    "ExecuteTime": {
     "end_time": "2019-02-03T20:19:44.539048Z",
     "start_time": "2019-02-03T20:19:44.527992Z"
    }
   },
   "outputs": [],
   "source": [
    "df.shape"
   ]
  },
  {
   "cell_type": "code",
   "execution_count": null,
   "metadata": {
    "ExecuteTime": {
     "end_time": "2019-02-03T20:19:47.196219Z",
     "start_time": "2019-02-03T20:19:47.144588Z"
    }
   },
   "outputs": [],
   "source": [
    "for energy in df.energy.unique():\n",
    "    \n",
    "    energy_idx = df['energy'] == energy\n",
    "\n",
    "    print(df[energy_idx].describe().round(2).to_latex())"
   ]
  },
  {
   "cell_type": "code",
   "execution_count": null,
   "metadata": {
    "ExecuteTime": {
     "end_time": "2019-02-03T20:21:54.196457Z",
     "start_time": "2019-02-03T20:21:54.099153Z"
    }
   },
   "outputs": [],
   "source": [
    "for prec in ['precision@1', 'precision@10', 'precision@100']:\n",
    "\n",
    "    print(df[['energy',prec]].groupby('energy').describe().round(2).to_latex())"
   ]
  },
  {
   "cell_type": "markdown",
   "metadata": {},
   "source": [
    "# Transfer learning\n",
    "\n",
    "In this experiment we check if it is possible to train the regression model on one network and then transfer the same model to other networks. In other words, if the relationship between vertex betweenness and vertex energy is universal, such transfer learning should be possible."
   ]
  },
  {
   "cell_type": "code",
   "execution_count": null,
   "metadata": {
    "ExecuteTime": {
     "end_time": "2019-01-14T22:05:40.257473Z",
     "start_time": "2019-01-14T22:05:40.248824Z"
    }
   },
   "outputs": [],
   "source": [
    "real_data_measures.value_type.unique()"
   ]
  },
  {
   "cell_type": "code",
   "execution_count": null,
   "metadata": {
    "ExecuteTime": {
     "end_time": "2019-02-03T19:41:33.679731Z",
     "start_time": "2019-02-03T19:41:33.641964Z"
    }
   },
   "outputs": [],
   "source": [
    "real_data_measures = pd.read_pickle('./real_data_measures.pickle')"
   ]
  },
  {
   "cell_type": "code",
   "execution_count": null,
   "metadata": {
    "ExecuteTime": {
     "end_time": "2019-01-15T00:39:15.837746Z",
     "start_time": "2019-01-15T00:32:45.032552Z"
    }
   },
   "outputs": [],
   "source": [
    "transfer_real_prediction_results = pd.DataFrame(\n",
    "    columns=['network', 'error_type', 'error_value', 'source_network'])\n",
    "\n",
    "for source_network in tqdm(networks[:50]):\n",
    "    for target_network in tqdm(networks[:50]):\n",
    "        \n",
    "        y_source = real_data_measures[(real_data_measures['network'] == source_network.name) &\n",
    "                               (real_data_measures['value_type']\n",
    "                                == 'betweenness')\n",
    "                               ]['value'].values\n",
    "        y_target = real_data_measures[(real_data_measures['network'] == target_network.name) &\n",
    "                               (real_data_measures['value_type']\n",
    "                                == 'betweenness')\n",
    "                               ]['value'].values\n",
    "\n",
    "        for energy_name in ['graph','laplacian','randic']:\n",
    "            \n",
    "            X_source = real_data_measures[(real_data_measures['network'] == source_network.name) &\n",
    "                                   (real_data_measures['value_type'] == energy_name)\n",
    "                                   ]['value'].values\n",
    "            X_target = real_data_measures[(real_data_measures['network'] == target_network.name) &\n",
    "                                   (real_data_measures['value_type'] == energy_name)\n",
    "                                   ]['value'].values\n",
    "\n",
    "            model = LinearRegression()\n",
    "            model.fit(X_source.reshape(-1, 1), y_source)\n",
    "            \n",
    "            y_pred = model.predict(X_target.reshape(-1,1))\n",
    "\n",
    "            eval_res = evaluate_results(target_network, y_target, y_pred, energy_name)\n",
    "            eval_res['source_network'] = source_network.name\n",
    "            eval_res['source_network_category'] = source_network.category\n",
    "\n",
    "            transfer_real_prediction_results = pd.concat(\n",
    "                [transfer_real_prediction_results, eval_res])"
   ]
  },
  {
   "cell_type": "code",
   "execution_count": null,
   "metadata": {
    "ExecuteTime": {
     "end_time": "2019-02-03T19:41:40.295170Z",
     "start_time": "2019-02-03T19:41:40.264120Z"
    }
   },
   "outputs": [],
   "source": [
    "for error_type in transfer_real_prediction_results.error_type.unique():\n",
    "    \n",
    "    error_idx = transfer_real_prediction_results['error_type'] == error_type\n",
    "\n",
    "    \n",
    "    df = pd.pivot_table(transfer_real_prediction_results[error_idx].round(2), \n",
    "                    index=['source_network_category',\n",
    "                           'source_network',\n",
    "                           'category',\n",
    "                           'network',\n",
    "                           'energy'\n",
    "                          ], \n",
    "                    columns='error_type', \n",
    "                    values='error_value').rename_axis(None, axis=1).reset_index()\n",
    "    \n",
    "    print(df.groupby('energy').describe().round(2).to_latex())"
   ]
  },
  {
   "cell_type": "code",
   "execution_count": null,
   "metadata": {},
   "outputs": [],
   "source": []
  }
 ],
 "metadata": {
  "kernelspec": {
   "display_name": "Python 3",
   "language": "python",
   "name": "python3"
  },
  "language_info": {
   "codemirror_mode": {
    "name": "ipython",
    "version": 3
   },
   "file_extension": ".py",
   "mimetype": "text/x-python",
   "name": "python",
   "nbconvert_exporter": "python",
   "pygments_lexer": "ipython3",
   "version": "3.7.3"
  },
  "toc": {
   "base_numbering": 1,
   "nav_menu": {},
   "number_sections": true,
   "sideBar": true,
   "skip_h1_title": false,
   "title_cell": "Table of Contents",
   "title_sidebar": "Contents",
   "toc_cell": true,
   "toc_position": {
    "height": "calc(100% - 180px)",
    "left": "10px",
    "top": "150px",
    "width": "651.391px"
   },
   "toc_section_display": true,
   "toc_window_display": true
  }
 },
 "nbformat": 4,
 "nbformat_minor": 1
}
