{
 "cells": [
  {
   "cell_type": "markdown",
   "metadata": {},
   "source": [
    "## TODO\n",
    "\n",
    "- add the measurement of actual allocation of resources to vertices\n",
    "- add the measurement of rate of change of resource allocation to vertices\n",
    "- add the measurement of variance of resource allocation to vertices"
   ]
  },
  {
   "cell_type": "code",
   "execution_count": 55,
   "metadata": {
    "ExecuteTime": {
     "end_time": "2019-08-02T13:30:37.648835Z",
     "start_time": "2019-08-02T13:30:37.645952Z"
    }
   },
   "outputs": [
    {
     "data": {
      "text/html": [
       "<style>.container { width:80% !important; }</style>"
      ],
      "text/plain": [
       "<IPython.core.display.HTML object>"
      ]
     },
     "metadata": {},
     "output_type": "display_data"
    }
   ],
   "source": [
    "from IPython.core.display import display, HTML\n",
    "display(HTML(\"<style>.container { width:80% !important; }</style>\"))"
   ]
  },
  {
   "cell_type": "code",
   "execution_count": 56,
   "metadata": {
    "ExecuteTime": {
     "end_time": "2019-08-02T13:30:38.550829Z",
     "start_time": "2019-08-02T13:30:38.545018Z"
    }
   },
   "outputs": [],
   "source": [
    "import networkx as nx\n",
    "import numpy as np\n",
    "import pandas as pd\n",
    "\n",
    "import statistics\n",
    "\n",
    "import sys\n",
    "sys.path.append('../..')\n",
    "\n",
    "from tqdm import tqdm_notebook as tqdm\n",
    "\n",
    "from collections import namedtuple, UserDict\n",
    "from functools import lru_cache\n",
    "\n",
    "from sklearn.preprocessing import MinMaxScaler\n",
    "\n",
    "tqdm.monitor_interval = 0\n",
    "\n",
    "%matplotlib inline\n",
    "import matplotlib.pyplot as plt\n",
    "import seaborn as sns\n",
    "\n",
    "from typing import List, Tuple, Dict\n",
    "\n",
    "from networkentropy import network_energy as ne\n",
    "from networkentropy import network_utils as nu\n",
    "\n",
    "from networkentropy.utils import gini, theil, normalize_dict\n",
    "from networkentropy.network_utils import NetworkDict, Dataset"
   ]
  },
  {
   "cell_type": "code",
   "execution_count": 57,
   "metadata": {
    "ExecuteTime": {
     "end_time": "2019-08-02T13:30:40.138692Z",
     "start_time": "2019-08-02T13:30:40.135200Z"
    }
   },
   "outputs": [],
   "source": [
    "def initial_allocation(g, budget, allocations, copy=True):\n",
    "    '''\n",
    "    Performs an initial allocation of a given budget of a resource to all vertices of a given network, using provided allocation schemes\n",
    "    \n",
    "    Args:\n",
    "        g: graph to be annotated\n",
    "        budget: summary budget of allocation\n",
    "        allocations: dict of allocation schemes\n",
    "        copy: specifies if the graph g should be copied before modifitations\n",
    "        \n",
    "    Returns:\n",
    "        graph g with node attributes representing allocations\n",
    "    '''\n",
    "    \n",
    "    if copy:\n",
    "        g = g.copy()\n",
    "\n",
    "    for name, method in allocations.items():\n",
    "        initial_values = method(g)\n",
    "        if initial_values:\n",
    "            nx.set_node_attributes(g, normalize_dict(initial_values, target=budget), name)\n",
    "\n",
    "    return g"
   ]
  },
  {
   "cell_type": "code",
   "execution_count": 58,
   "metadata": {
    "ExecuteTime": {
     "end_time": "2019-08-02T13:30:40.619139Z",
     "start_time": "2019-08-02T13:30:40.614452Z"
    }
   },
   "outputs": [],
   "source": [
    "# definition of a single iteration where each vertex sends resources to a randomly chosen neighbor\n",
    "\n",
    "def do_turn(graph, allocations):\n",
    "    '''\n",
    "    Performs a single iteration of resource exchange\n",
    "    \n",
    "    Args:\n",
    "        graph: input graph\n",
    "        allocations: list of names of attributes which hold the initial allocation\n",
    "    '''\n",
    "    jump_ratio = [1/i**2 for i in range(1,6)]\n",
    "    jump_prob = [jr/sum(jump_ratio) for jr in jump_ratio]\n",
    "\n",
    "    radius = np.random.choice(range(1,6), p=jump_prob )\n",
    "\n",
    "    for node in graph.nodes:\n",
    "        neighbors = list(set(nx.ego_graph(graph, node, radius=radius).nodes()).difference([node]))\n",
    "        \n",
    "        if len(neighbors) > 0:\n",
    "            # select a neighbor to trade resources with\n",
    "            neighbor = np.random.choice(neighbors)\n",
    "\n",
    "            # select amount to trade\n",
    "            amount = 0.001\n",
    "\n",
    "            for allocation in allocations:\n",
    "\n",
    "                if allocation in graph.nodes[node].keys():\n",
    "                    if graph.nodes[node][allocation] > amount:\n",
    "                        graph.nodes[node][allocation] -= amount\n",
    "                        graph.nodes[neighbor][allocation] += amount\n",
    "                \n",
    "    return"
   ]
  },
  {
   "cell_type": "code",
   "execution_count": 59,
   "metadata": {
    "ExecuteTime": {
     "end_time": "2019-08-02T13:30:42.263029Z",
     "start_time": "2019-08-02T13:30:42.256590Z"
    }
   },
   "outputs": [],
   "source": [
    "IterationEntry = namedtuple('IterationEntry', ['network','iteration','allocation','inequality_level', 'inequality'])\n",
    "\n",
    "def run_network(g, budget, allocations, num_iterations):\n",
    "    '''\n",
    "    Creates initial allocation and simulates the flow of resources within the network\n",
    "    \n",
    "    Args:\n",
    "        g: input graph\n",
    "        budget: initial amount of resource to be distributed\n",
    "        allocations: list of names of attributes which hold the initial allocation\n",
    "        num_iterations: number of iterations of resource exchange\n",
    "        \n",
    "    '''\n",
    "    result = []\n",
    "    # helper function which computes the sum of resource allocation\n",
    "    # for a given vertex' egocentric network\n",
    "    sum_ego_graph_resource = lambda g, node, resource, radius: sum([g.nodes[n][resource] for n in nx.ego_graph(g, node, radius=radius).nodes if resource in g.nodes[n].keys()])\n",
    "\n",
    "    graph_name = g.graph['name']\n",
    "    \n",
    "    # select the greatest connected component of a network\n",
    "    g = nx.subgraph(g, max(nx.connected_components(g.to_undirected()), key=len))\n",
    "    \n",
    "    g = initial_allocation(g, budget=budget, allocations=allocations)\n",
    "    \n",
    "    for i in tqdm(range(num_iterations)):\n",
    "        \n",
    "        do_turn(g, allocations)\n",
    "\n",
    "        for allocation in allocations:\n",
    "\n",
    "            vertex_resource_distribution = np.array(list(nx.get_node_attributes(g, allocation).values()))\n",
    "            egonet_resource_distribution = np.array([sum_ego_graph_resource(g, n, allocation, 1) for n in g.nodes])\n",
    "\n",
    "            result.append(IterationEntry(graph_name, i, allocation, 'vertex_distribution_gini', gini(vertex_resource_distribution)))\n",
    "            result.append(IterationEntry(graph_name, i, allocation, 'egonet_distribution_gini', gini(egonet_resource_distribution)))\n",
    "            result.append(IterationEntry(graph_name, i, allocation, 'vertex_distribution_theil', theil(vertex_resource_distribution)))\n",
    "            result.append(IterationEntry(graph_name, i, allocation, 'egonet_distribution_theil', theil(egonet_resource_distribution)))\n",
    "\n",
    "    return result"
   ]
  },
  {
   "cell_type": "code",
   "execution_count": 60,
   "metadata": {
    "ExecuteTime": {
     "end_time": "2019-08-02T13:30:43.278967Z",
     "start_time": "2019-08-02T13:30:43.274782Z"
    }
   },
   "outputs": [],
   "source": [
    "# helper methods for drawing networks and plots\n",
    "\n",
    "def draw_inequality(df, name, title, last_num=None, measure='gini'):\n",
    "    \n",
    "    distribution_idx = df['inequality_level'] == f'{name}_{measure}'\n",
    "    \n",
    "    if last_num is None:\n",
    "        data_df =  df[distribution_idx]\n",
    "    else:\n",
    "        data_df = df[distribution_idx][-last_num:]\n",
    "        \n",
    "    sns.lineplot(data=data_df, x='iteration', y='inequality', style='allocation')\n",
    "\n",
    "def draw_inequalities(df):\n",
    "    \n",
    "    draw_inequality(df, 'vertex_distribution', 'Gini vertex inequality', measure='gini')\n",
    "    plt.show()\n",
    "    draw_inequality(df, 'vertex_distribution', 'Theil vertex inequality', measure='theil')\n",
    "    plt.show()\n",
    "    draw_inequality(df, 'egonet_distribution', 'Gini egonet inequality', measure='gini')\n",
    "    plt.show()\n",
    "    draw_inequality(df, 'egonet_distribution', 'Theil egonet inequality', measure='theil')\n",
    "    plt.show()"
   ]
  },
  {
   "cell_type": "code",
   "execution_count": 61,
   "metadata": {
    "ExecuteTime": {
     "end_time": "2019-08-02T13:30:44.614339Z",
     "start_time": "2019-08-02T13:30:44.610826Z"
    }
   },
   "outputs": [],
   "source": [
    "def get_min_inequlity_method(df, dist):\n",
    "    idx = empirical_df\\\n",
    "    .query(\"iteration == (@NUM_ITERS - 1) and inequality_level == @dist\")\\\n",
    "    .groupby('network')['inequality'].idxmin()\n",
    "    return empirical_df.loc[idx]"
   ]
  },
  {
   "cell_type": "code",
   "execution_count": 62,
   "metadata": {
    "ExecuteTime": {
     "end_time": "2019-08-02T13:30:46.454971Z",
     "start_time": "2019-08-02T13:30:46.452701Z"
    }
   },
   "outputs": [],
   "source": [
    "# Constants definitions\n",
    "\n",
    "SEED = 10\n",
    "N = 100\n",
    "P_ERDOS_RENYI = 0.025\n",
    "P_HOLME_KIM = 0.1\n",
    "M_HOLME_KIM = 2\n",
    "K_K_OUT = 3\n",
    "K_ALPHA = 1"
   ]
  },
  {
   "cell_type": "code",
   "execution_count": 63,
   "metadata": {
    "ExecuteTime": {
     "end_time": "2019-08-02T13:30:47.699854Z",
     "start_time": "2019-08-02T13:30:47.690456Z"
    }
   },
   "outputs": [],
   "source": [
    "NETWORKS_CREATORS = NetworkDict({\n",
    "    'erdos-renyi-1': lambda: nx.erdos_renyi_graph(n=N, p=P_ERDOS_RENYI, seed=SEED),\n",
    "    'erdos-renyi-2': lambda: nx.erdos_renyi_graph(n=N, p=P_ERDOS_RENYI+0.01, seed=SEED),\n",
    "    'erdos-renyi-3': lambda: nx.erdos_renyi_graph(n=N, p=P_ERDOS_RENYI-0.01, seed=SEED),\n",
    "    'erdos-renyi-4': lambda: nx.erdos_renyi_graph(n=N, p=P_ERDOS_RENYI+0.02, seed=SEED),\n",
    "    'erdos-renyi-5': lambda: nx.erdos_renyi_graph(n=N, p=P_ERDOS_RENYI-0.02, seed=SEED),\n",
    "    'holme-kim-1': lambda: nx.powerlaw_cluster_graph(n=N, m=M_HOLME_KIM, p=P_HOLME_KIM),\n",
    "    'holme-kim-2': lambda: nx.powerlaw_cluster_graph(n=N, m=M_HOLME_KIM, p=P_HOLME_KIM+0.1),\n",
    "    'holme-kim-3': lambda: nx.powerlaw_cluster_graph(n=N, m=M_HOLME_KIM, p=P_HOLME_KIM+0.2),\n",
    "    'holme-kim-4': lambda: nx.powerlaw_cluster_graph(n=N, m=M_HOLME_KIM+1, p=P_HOLME_KIM),\n",
    "    'holme-kim-5': lambda: nx.powerlaw_cluster_graph(n=N, m=M_HOLME_KIM+2, p=P_HOLME_KIM),\n",
    "    'scale-free-1': lambda: nx.DiGraph(nx.scale_free_graph(n=N, alpha=0.41, beta=0.54, gamma=0.05)),\n",
    "    'scale-free-2': lambda: nx.DiGraph(nx.scale_free_graph(n=N, alpha=0.31, beta=0.64, gamma=0.05)),\n",
    "    'scale-free-3': lambda: nx.DiGraph(nx.scale_free_graph(n=N, alpha=0.41, beta=0.49, gamma=0.10)),\n",
    "    'scale-free-4': lambda: nx.DiGraph(nx.scale_free_graph(n=N, alpha=0.31, beta=0.59, gamma=0.10)),\n",
    "    'scale-free-5': lambda: nx.DiGraph(nx.scale_free_graph(n=N, alpha=0.43, beta=0.56, gamma=0.01)),\n",
    "    'k-out-1': lambda: nx.DiGraph(nx.random_k_out_graph(n=N, k=K_K_OUT, alpha=K_ALPHA, self_loops=False, seed=SEED)),\n",
    "    'k-out-2': lambda: nx.DiGraph(nx.random_k_out_graph(n=N, k=K_K_OUT+1, alpha=K_ALPHA, self_loops=False, seed=SEED)),\n",
    "    'k-out-3': lambda: nx.DiGraph(nx.random_k_out_graph(n=N, k=K_K_OUT-1, alpha=K_ALPHA, self_loops=False, seed=SEED)),\n",
    "    'k-out-4': lambda: nx.DiGraph(nx.random_k_out_graph(n=N, k=K_K_OUT, alpha=K_ALPHA+0.5, self_loops=False, seed=SEED)),\n",
    "    'k-out-5': lambda: nx.DiGraph(nx.random_k_out_graph(n=N, k=K_K_OUT, alpha=K_ALPHA-0.5, self_loops=False, seed=SEED)),\n",
    "})"
   ]
  },
  {
   "cell_type": "code",
   "execution_count": 64,
   "metadata": {
    "ExecuteTime": {
     "end_time": "2019-08-02T13:30:48.610130Z",
     "start_time": "2019-08-02T13:30:48.604668Z"
    }
   },
   "outputs": [],
   "source": [
    "ALLOCATIONS = {\n",
    "    'random': lambda g: { node: np.random.random() for node in g.nodes },\n",
    "    'constant': lambda g: { node:1 for node in g.nodes },\n",
    "    'pagerank': nx.pagerank,\n",
    "    'randic_energy': ne.randic_centrality,\n",
    "    'graph_energy': ne.graph_energy_centrality,\n",
    "    'laplacian_energy': ne.laplacian_centrality,\n",
    "    'randic_pagerank': lambda g: { k: v for k,v in ne.graph_energy_pagerank(g, mode='randic').items()},\n",
    "    'graph_pagerank': lambda g: { k: v for k,v in ne.graph_energy_pagerank(g, mode='graph').items()},\n",
    "    'laplacian_pagerank': lambda g: { k: v for k,v in ne.graph_energy_pagerank(g, mode='laplacian').items()},\n",
    "    'randic_gradient': lambda g: { k: v for k,v in ne.gradient_centrality(g, mode='randic').items()}, \n",
    "    'graph_gradient': lambda g: { k: v for k,v in ne.gradient_centrality(g, mode='graph').items()},\n",
    "    'laplacian_gradient': lambda g: { k: v for k,v in ne.gradient_centrality(g, mode='laplacian').items()},\n",
    "}"
   ]
  },
  {
   "cell_type": "code",
   "execution_count": 65,
   "metadata": {
    "ExecuteTime": {
     "end_time": "2019-08-02T13:30:55.694636Z",
     "start_time": "2019-08-02T13:30:55.692170Z"
    }
   },
   "outputs": [],
   "source": [
    "BUDGET = 1\n",
    "NUM_ITERS = 500"
   ]
  },
  {
   "cell_type": "code",
   "execution_count": null,
   "metadata": {
    "ExecuteTime": {
     "end_time": "2019-07-31T09:04:33.975044Z",
     "start_time": "2019-07-31T09:04:33.972868Z"
    }
   },
   "outputs": [],
   "source": [
    "synthetic_dfs = []"
   ]
  },
  {
   "cell_type": "code",
   "execution_count": 66,
   "metadata": {
    "ExecuteTime": {
     "end_time": "2019-08-02T13:31:33.283602Z",
     "start_time": "2019-08-02T13:30:57.808707Z"
    }
   },
   "outputs": [
    {
     "data": {
      "application/vnd.jupyter.widget-view+json": {
       "model_id": "2bc5cd1817d44c9aad185f03892dd8c7",
       "version_major": 2,
       "version_minor": 0
      },
      "text/plain": [
       "HBox(children=(IntProgress(value=0, max=500), HTML(value='')))"
      ]
     },
     "metadata": {},
     "output_type": "display_data"
    },
    {
     "name": "stderr",
     "output_type": "stream",
     "text": [
      "../../networkentropy/utils.py:72: RuntimeWarning: divide by zero encountered in log\n",
      "  theil_index = (1 / N) * np.nansum((x / mi) * np.log(x / mi))\n",
      "../../networkentropy/utils.py:72: RuntimeWarning: invalid value encountered in multiply\n",
      "  theil_index = (1 / N) * np.nansum((x / mi) * np.log(x / mi))\n"
     ]
    },
    {
     "name": "stdout",
     "output_type": "stream",
     "text": [
      "\n"
     ]
    }
   ],
   "source": [
    "network_name, network_creator = list(NETWORKS_CREATORS.items())[13]\n",
    "g = network_creator()\n",
    "results = run_network(g, BUDGET, ALLOCATIONS, NUM_ITERS)\n",
    "df = pd.DataFrame(list(map(lambda e: e._asdict(), results)))"
   ]
  },
  {
   "cell_type": "code",
   "execution_count": 71,
   "metadata": {
    "ExecuteTime": {
     "end_time": "2019-08-02T13:33:58.944912Z",
     "start_time": "2019-08-02T13:33:58.414844Z"
    }
   },
   "outputs": [
    {
     "name": "stderr",
     "output_type": "stream",
     "text": [
      "/home/mikolaj/Research/entropy-complex-networks/.venv/lib/python3.7/site-packages/networkx/drawing/nx_pylab.py:579: MatplotlibDeprecationWarning: \n",
      "The iterable function was deprecated in Matplotlib 3.1 and will be removed in 3.3. Use np.iterable instead.\n",
      "  if not cb.iterable(width):\n",
      "/home/mikolaj/Research/entropy-complex-networks/.venv/lib/python3.7/site-packages/networkx/drawing/nx_pylab.py:676: MatplotlibDeprecationWarning: \n",
      "The iterable function was deprecated in Matplotlib 3.1 and will be removed in 3.3. Use np.iterable instead.\n",
      "  if cb.iterable(node_size):  # many node sizes\n"
     ]
    },
    {
     "data": {
      "image/png": "[encoded data removed]",
      "text/plain": [
       "<Figure size 720x432 with 1 Axes>"
      ]
     },
     "metadata": {},
     "output_type": "display_data"
    }
   ],
   "source": [
    "size_factor=10000\n",
    "\n",
    "values = ne.laplacian_centrality(g, normalized=True).values()\n",
    "\n",
    "options = { \n",
    "    'node_color': [d for d in list(values)],\n",
    "    'node_size': [d * size_factor for d in list(values)],\n",
    "    'cmap': plt.cm.coolwarm,\n",
    "    'edge_color': 'lightgray',\n",
    "    'pos': nx.spring_layout(g),\n",
    "}\n",
    "\n",
    "plt.figure(figsize=(10, 6))\n",
    "plt.title('Scale-free network')\n",
    "nx.draw(g, **options)\n",
    "plt.show()"
   ]
  },
  {
   "cell_type": "code",
   "execution_count": 68,
   "metadata": {
    "ExecuteTime": {
     "end_time": "2019-08-02T13:32:29.974489Z",
     "start_time": "2019-08-02T13:32:29.320767Z"
    }
   },
   "outputs": [
    {
     "name": "stderr",
     "output_type": "stream",
     "text": [
      "/home/mikolaj/Research/entropy-complex-networks/.venv/lib/python3.7/site-packages/networkx/drawing/nx_pylab.py:579: MatplotlibDeprecationWarning: \n",
      "The iterable function was deprecated in Matplotlib 3.1 and will be removed in 3.3. Use np.iterable instead.\n",
      "  if not cb.iterable(width):\n",
      "/home/mikolaj/Research/entropy-complex-networks/.venv/lib/python3.7/site-packages/networkx/drawing/nx_pylab.py:676: MatplotlibDeprecationWarning: \n",
      "The iterable function was deprecated in Matplotlib 3.1 and will be removed in 3.3. Use np.iterable instead.\n",
      "  if cb.iterable(node_size):  # many node sizes\n"
     ]
    },
    {
     "data": {
      "image/png": "[encoded data removed]",
      "text/plain": [
       "<Figure size 720x432 with 1 Axes>"
      ]
     },
     "metadata": {},
     "output_type": "display_data"
    }
   ],
   "source": [
    "size_factor=10000\n",
    "\n",
    "values = ne.gradient_centrality(g, mode='laplacian', normalized=True).values()\n",
    "\n",
    "options = { \n",
    "    'node_color': [d for d in list(values)],\n",
    "    'node_size': [d * size_factor for d in list(values)],\n",
    "    'cmap': plt.cm.coolwarm,\n",
    "    'edge_color': 'lightgray',\n",
    "    'pos': nx.kamada_kawai_layout(g),\n",
    "}\n",
    "\n",
    "plt.figure(figsize=(10, 6))\n",
    "plt.title('Scale-free network')\n",
    "nx.draw(g, **options)\n",
    "plt.show()"
   ]
  },
  {
   "cell_type": "code",
   "execution_count": null,
   "metadata": {
    "ExecuteTime": {
     "end_time": "2019-08-02T09:27:31.815435Z",
     "start_time": "2019-08-02T09:27:31.807447Z"
    }
   },
   "outputs": [],
   "source": [
    "df.allocation.unique()"
   ]
  },
  {
   "cell_type": "code",
   "execution_count": null,
   "metadata": {
    "ExecuteTime": {
     "end_time": "2019-08-02T10:09:07.895028Z",
     "start_time": "2019-08-02T10:09:05.642122Z"
    }
   },
   "outputs": [],
   "source": [
    "idx = df.allocation.apply(lambda x: x in ['constant', 'pagerank', 'randic_energy'])\n",
    "\n",
    "sns.set_style('whitegrid')\n",
    "\n",
    "draw_inequalities(df[idx])"
   ]
  },
  {
   "cell_type": "code",
   "execution_count": null,
   "metadata": {
    "ExecuteTime": {
     "end_time": "2019-07-31T09:25:20.644785Z",
     "start_time": "2019-07-31T09:04:34.700049Z"
    },
    "scrolled": true
   },
   "outputs": [],
   "source": [
    "for network_name, network_creator in tqdm(list(NETWORKS_CREATORS.items())):\n",
    "    g = network_creator()\n",
    "    results = run_network(g, BUDGET, ALLOCATIONS, NUM_ITERS)\n",
    "    df = pd.DataFrame(list(map(lambda e: e._asdict(), results)))\n",
    "    synthetic_dfs.append(df)"
   ]
  },
  {
   "cell_type": "code",
   "execution_count": 23,
   "metadata": {
    "ExecuteTime": {
     "end_time": "2019-08-02T10:27:25.435066Z",
     "start_time": "2019-08-02T10:27:25.428701Z"
    }
   },
   "outputs": [],
   "source": [
    "def get_min_inequlity_method(df, dist):\n",
    "    idx = df\\\n",
    "        .query(\"iteration == (@NUM_ITERS - 1) and inequality_level == @dist\")\\\n",
    "        .groupby('network')['inequality'].idxmin()\n",
    "    return df.loc[idx]"
   ]
  },
  {
   "cell_type": "code",
   "execution_count": 24,
   "metadata": {
    "ExecuteTime": {
     "end_time": "2019-08-02T10:27:26.781100Z",
     "start_time": "2019-08-02T10:27:26.764226Z"
    }
   },
   "outputs": [],
   "source": [
    "def calculate_avg_rate_of_change_and_variance(df):\n",
    "    result = {\n",
    "        'avg_roc': [(df.loc[df['iteration'] == NUM_ITERS-1].iloc[0]['inequality'] - df.loc[df['iteration'] == 0].iloc[0]['inequality'])/NUM_ITERS],\n",
    "        'variance': [statistics.pvariance(df['inequality'])],\n",
    "    } \n",
    "    return pd.DataFrame(result)\n",
    "\n",
    "def group_and_calculate_avg_roc_and_variance(df):\n",
    "    return df.groupby(['network', 'allocation', 'inequality_level'])\\\n",
    ".apply(calculate_avg_rate_of_change_and_variance)"
   ]
  },
  {
   "cell_type": "code",
   "execution_count": 25,
   "metadata": {
    "ExecuteTime": {
     "end_time": "2019-08-02T10:27:27.247648Z",
     "start_time": "2019-08-02T10:27:27.243248Z"
    }
   },
   "outputs": [],
   "source": [
    "def get_min_statistic_method(df, statistic, dist):\n",
    "    idx = df.query(\"inequality_level == @dist\").groupby('network')[statistic].idxmin()\n",
    "    return df.loc[idx, statistic].to_frame()"
   ]
  },
  {
   "cell_type": "code",
   "execution_count": 21,
   "metadata": {
    "ExecuteTime": {
     "end_time": "2019-08-02T10:26:40.419457Z",
     "start_time": "2019-08-02T10:26:40.408489Z"
    }
   },
   "outputs": [
    {
     "data": {
      "text/html": [
       "<div>\n",
       "<style scoped>\n",
       "    .dataframe tbody tr th:only-of-type {\n",
       "        vertical-align: middle;\n",
       "    }\n",
       "\n",
       "    .dataframe tbody tr th {\n",
       "        vertical-align: top;\n",
       "    }\n",
       "\n",
       "    .dataframe thead th {\n",
       "        text-align: right;\n",
       "    }\n",
       "</style>\n",
       "<table border=\"1\" class=\"dataframe\">\n",
       "  <thead>\n",
       "    <tr style=\"text-align: right;\">\n",
       "      <th></th>\n",
       "      <th>index</th>\n",
       "      <th>network</th>\n",
       "      <th>iteration</th>\n",
       "      <th>allocation</th>\n",
       "      <th>inequality_level</th>\n",
       "      <th>inequality</th>\n",
       "    </tr>\n",
       "  </thead>\n",
       "  <tbody>\n",
       "    <tr>\n",
       "      <th>0</th>\n",
       "      <td>0</td>\n",
       "      <td>erdos-renyi-1</td>\n",
       "      <td>0</td>\n",
       "      <td>random</td>\n",
       "      <td>vertex_distribution_gini</td>\n",
       "      <td>0.368301</td>\n",
       "    </tr>\n",
       "    <tr>\n",
       "      <th>1</th>\n",
       "      <td>1</td>\n",
       "      <td>erdos-renyi-1</td>\n",
       "      <td>0</td>\n",
       "      <td>random</td>\n",
       "      <td>egonet_distribution_gini</td>\n",
       "      <td>0.269595</td>\n",
       "    </tr>\n",
       "    <tr>\n",
       "      <th>2</th>\n",
       "      <td>2</td>\n",
       "      <td>erdos-renyi-1</td>\n",
       "      <td>0</td>\n",
       "      <td>random</td>\n",
       "      <td>vertex_distribution_theil</td>\n",
       "      <td>0.226165</td>\n",
       "    </tr>\n",
       "    <tr>\n",
       "      <th>3</th>\n",
       "      <td>3</td>\n",
       "      <td>erdos-renyi-1</td>\n",
       "      <td>0</td>\n",
       "      <td>random</td>\n",
       "      <td>egonet_distribution_theil</td>\n",
       "      <td>0.118297</td>\n",
       "    </tr>\n",
       "    <tr>\n",
       "      <th>4</th>\n",
       "      <td>4</td>\n",
       "      <td>erdos-renyi-1</td>\n",
       "      <td>0</td>\n",
       "      <td>constant</td>\n",
       "      <td>vertex_distribution_gini</td>\n",
       "      <td>0.042814</td>\n",
       "    </tr>\n",
       "  </tbody>\n",
       "</table>\n",
       "</div>"
      ],
      "text/plain": [
       "   index        network  iteration allocation           inequality_level  \\\n",
       "0      0  erdos-renyi-1          0     random   vertex_distribution_gini   \n",
       "1      1  erdos-renyi-1          0     random   egonet_distribution_gini   \n",
       "2      2  erdos-renyi-1          0     random  vertex_distribution_theil   \n",
       "3      3  erdos-renyi-1          0     random  egonet_distribution_theil   \n",
       "4      4  erdos-renyi-1          0   constant   vertex_distribution_gini   \n",
       "\n",
       "   inequality  \n",
       "0    0.368301  \n",
       "1    0.269595  \n",
       "2    0.226165  \n",
       "3    0.118297  \n",
       "4    0.042814  "
      ]
     },
     "execution_count": 21,
     "metadata": {},
     "output_type": "execute_result"
    }
   ],
   "source": [
    "synthetic_df.head()"
   ]
  },
  {
   "cell_type": "code",
   "execution_count": null,
   "metadata": {
    "ExecuteTime": {
     "end_time": "2019-07-31T09:28:25.968951Z",
     "start_time": "2019-07-31T09:28:25.896888Z"
    }
   },
   "outputs": [],
   "source": [
    "synthetic_df = pd.concat(synthetic_dfs).reset_index()"
   ]
  },
  {
   "cell_type": "code",
   "execution_count": 26,
   "metadata": {
    "ExecuteTime": {
     "end_time": "2019-08-02T10:27:30.448785Z",
     "start_time": "2019-08-02T10:27:30.406652Z"
    }
   },
   "outputs": [
    {
     "data": {
      "text/plain": [
       "allocation\n",
       "constant           17\n",
       "randic_energy       1\n",
       "randic_pagerank     1\n",
       "Name: network, dtype: int64"
      ]
     },
     "execution_count": 26,
     "metadata": {},
     "output_type": "execute_result"
    }
   ],
   "source": [
    "get_min_inequlity_method(synthetic_df, 'vertex_distribution_gini').reset_index().groupby('allocation')['network'].count().nlargest(3)"
   ]
  },
  {
   "cell_type": "code",
   "execution_count": 27,
   "metadata": {
    "ExecuteTime": {
     "end_time": "2019-08-02T10:27:31.631075Z",
     "start_time": "2019-08-02T10:27:31.593379Z"
    }
   },
   "outputs": [
    {
     "data": {
      "text/plain": [
       "allocation\n",
       "constant         14\n",
       "graph_energy      3\n",
       "randic_energy     1\n",
       "Name: network, dtype: int64"
      ]
     },
     "execution_count": 27,
     "metadata": {},
     "output_type": "execute_result"
    }
   ],
   "source": [
    "get_min_inequlity_method(synthetic_df, 'vertex_distribution_theil').reset_index().groupby('allocation')['network'].count().nlargest(3)"
   ]
  },
  {
   "cell_type": "code",
   "execution_count": 28,
   "metadata": {
    "ExecuteTime": {
     "end_time": "2019-08-02T10:27:34.867223Z",
     "start_time": "2019-08-02T10:27:34.837099Z"
    }
   },
   "outputs": [
    {
     "data": {
      "text/plain": [
       "allocation\n",
       "constant        5\n",
       "random          4\n",
       "graph_energy    3\n",
       "Name: network, dtype: int64"
      ]
     },
     "execution_count": 28,
     "metadata": {},
     "output_type": "execute_result"
    }
   ],
   "source": [
    "get_min_inequlity_method(synthetic_df, 'egonet_distribution_gini').reset_index().groupby('allocation')['network'].count().nlargest(3)"
   ]
  },
  {
   "cell_type": "code",
   "execution_count": 29,
   "metadata": {
    "ExecuteTime": {
     "end_time": "2019-08-02T10:27:35.525556Z",
     "start_time": "2019-08-02T10:27:35.487315Z"
    }
   },
   "outputs": [
    {
     "data": {
      "text/plain": [
       "allocation\n",
       "constant        5\n",
       "random          4\n",
       "graph_energy    3\n",
       "Name: network, dtype: int64"
      ]
     },
     "execution_count": 29,
     "metadata": {},
     "output_type": "execute_result"
    }
   ],
   "source": [
    "get_min_inequlity_method(synthetic_df, 'egonet_distribution_theil').reset_index().groupby('allocation')['network'].count().nlargest(3)"
   ]
  },
  {
   "cell_type": "code",
   "execution_count": 30,
   "metadata": {
    "ExecuteTime": {
     "end_time": "2019-08-02T10:27:40.912726Z",
     "start_time": "2019-08-02T10:27:38.066121Z"
    }
   },
   "outputs": [],
   "source": [
    "synthetic_avg_roc_and_variance_df = group_and_calculate_avg_roc_and_variance(synthetic_df)"
   ]
  },
  {
   "cell_type": "code",
   "execution_count": 31,
   "metadata": {
    "ExecuteTime": {
     "end_time": "2019-08-02T10:27:41.612882Z",
     "start_time": "2019-08-02T10:27:41.571305Z"
    }
   },
   "outputs": [
    {
     "data": {
      "text/plain": [
       "allocation\n",
       "randic_gradient    8\n",
       "graph_pagerank     4\n",
       "graph_energy       3\n",
       "Name: network, dtype: int64"
      ]
     },
     "execution_count": 31,
     "metadata": {},
     "output_type": "execute_result"
    }
   ],
   "source": [
    "get_min_statistic_method(synthetic_avg_roc_and_variance_df, 'avg_roc', 'vertex_distribution_gini').reset_index().groupby('allocation')['network'].count().nlargest(3)"
   ]
  },
  {
   "cell_type": "code",
   "execution_count": 32,
   "metadata": {
    "ExecuteTime": {
     "end_time": "2019-08-02T10:27:42.028614Z",
     "start_time": "2019-08-02T10:27:42.000828Z"
    }
   },
   "outputs": [
    {
     "data": {
      "text/plain": [
       "allocation\n",
       "randic_gradient       5\n",
       "laplacian_gradient    4\n",
       "graph_energy          3\n",
       "Name: network, dtype: int64"
      ]
     },
     "execution_count": 32,
     "metadata": {},
     "output_type": "execute_result"
    }
   ],
   "source": [
    "get_min_statistic_method(synthetic_avg_roc_and_variance_df, 'avg_roc', 'vertex_distribution_theil').reset_index().groupby('allocation')['network'].count().nlargest(3)"
   ]
  },
  {
   "cell_type": "code",
   "execution_count": 33,
   "metadata": {
    "ExecuteTime": {
     "end_time": "2019-08-02T10:27:42.664601Z",
     "start_time": "2019-08-02T10:27:42.628525Z"
    }
   },
   "outputs": [
    {
     "data": {
      "text/plain": [
       "allocation\n",
       "graph_energy       6\n",
       "randic_gradient    4\n",
       "graph_gradient     3\n",
       "Name: network, dtype: int64"
      ]
     },
     "execution_count": 33,
     "metadata": {},
     "output_type": "execute_result"
    }
   ],
   "source": [
    "get_min_statistic_method(synthetic_avg_roc_and_variance_df, 'avg_roc', 'egonet_distribution_gini').reset_index().groupby('allocation')['network'].count().nlargest(3)"
   ]
  },
  {
   "cell_type": "code",
   "execution_count": 34,
   "metadata": {
    "ExecuteTime": {
     "end_time": "2019-08-02T10:27:43.058831Z",
     "start_time": "2019-08-02T10:27:43.028749Z"
    }
   },
   "outputs": [
    {
     "data": {
      "text/plain": [
       "allocation\n",
       "graph_energy       6\n",
       "randic_gradient    5\n",
       "graph_gradient     3\n",
       "Name: network, dtype: int64"
      ]
     },
     "execution_count": 34,
     "metadata": {},
     "output_type": "execute_result"
    }
   ],
   "source": [
    "get_min_statistic_method(synthetic_avg_roc_and_variance_df, 'avg_roc', 'egonet_distribution_theil').reset_index().groupby('allocation')['network'].count().nlargest(3)"
   ]
  },
  {
   "cell_type": "code",
   "execution_count": 35,
   "metadata": {
    "ExecuteTime": {
     "end_time": "2019-08-02T10:27:43.426775Z",
     "start_time": "2019-08-02T10:27:43.400212Z"
    }
   },
   "outputs": [
    {
     "data": {
      "text/plain": [
       "allocation\n",
       "randic_gradient    7\n",
       "graph_energy       4\n",
       "graph_pagerank     4\n",
       "Name: network, dtype: int64"
      ]
     },
     "execution_count": 35,
     "metadata": {},
     "output_type": "execute_result"
    }
   ],
   "source": [
    "get_min_statistic_method(synthetic_avg_roc_and_variance_df, 'variance', 'vertex_distribution_gini').reset_index().groupby('allocation')['network'].count().nlargest(3)"
   ]
  },
  {
   "cell_type": "code",
   "execution_count": 36,
   "metadata": {
    "ExecuteTime": {
     "end_time": "2019-08-02T10:27:44.291266Z",
     "start_time": "2019-08-02T10:27:44.245530Z"
    }
   },
   "outputs": [
    {
     "data": {
      "text/plain": [
       "allocation\n",
       "randic_gradient       6\n",
       "laplacian_gradient    5\n",
       "graph_gradient        3\n",
       "Name: network, dtype: int64"
      ]
     },
     "execution_count": 36,
     "metadata": {},
     "output_type": "execute_result"
    }
   ],
   "source": [
    "get_min_statistic_method(synthetic_avg_roc_and_variance_df, 'variance', 'vertex_distribution_theil').reset_index().groupby('allocation')['network'].count().nlargest(3)"
   ]
  },
  {
   "cell_type": "code",
   "execution_count": 39,
   "metadata": {
    "ExecuteTime": {
     "end_time": "2019-08-02T10:28:14.649659Z",
     "start_time": "2019-08-02T10:28:14.612547Z"
    }
   },
   "outputs": [
    {
     "data": {
      "text/plain": [
       "allocation\n",
       "randic_gradient       7\n",
       "graph_energy          5\n",
       "laplacian_gradient    3\n",
       "Name: network, dtype: int64"
      ]
     },
     "execution_count": 39,
     "metadata": {},
     "output_type": "execute_result"
    }
   ],
   "source": [
    "get_min_statistic_method(synthetic_avg_roc_and_variance_df, 'variance', 'egonet_distribution_gini').reset_index().groupby('allocation')['network'].count().nlargest(3)"
   ]
  },
  {
   "cell_type": "code",
   "execution_count": 41,
   "metadata": {
    "ExecuteTime": {
     "end_time": "2019-08-02T11:17:21.434098Z",
     "start_time": "2019-08-02T11:17:21.403883Z"
    }
   },
   "outputs": [
    {
     "data": {
      "text/plain": [
       "allocation\n",
       "randic_gradient       5\n",
       "graph_gradient        4\n",
       "laplacian_gradient    4\n",
       "Name: network, dtype: int64"
      ]
     },
     "execution_count": 41,
     "metadata": {},
     "output_type": "execute_result"
    }
   ],
   "source": [
    "get_min_statistic_method(synthetic_avg_roc_and_variance_df, 'variance', 'egonet_distribution_theil').reset_index().groupby('allocation')['network'].count().nlargest(3)"
   ]
  },
  {
   "cell_type": "code",
   "execution_count": null,
   "metadata": {
    "ExecuteTime": {
     "end_time": "2019-07-31T09:28:53.077418Z",
     "start_time": "2019-07-31T09:28:53.074950Z"
    }
   },
   "outputs": [],
   "source": [
    "BUDGET = 1\n",
    "NUM_ITERS = 500\n",
    "\n",
    "MIN_NODES, MAX_NODES = 20, 1000\n",
    "MIN_DENSITY, MAX_DENSITY = 0.02, 0.9\n",
    "BIPARTITE = False\n",
    "DIRECTED = True"
   ]
  },
  {
   "cell_type": "code",
   "execution_count": null,
   "metadata": {
    "ExecuteTime": {
     "end_time": "2019-07-31T09:28:55.055801Z",
     "start_time": "2019-07-31T09:28:54.375465Z"
    }
   },
   "outputs": [],
   "source": [
    "networks_raw = nu.read_available_datasets_konect(name='konect.cc').filter(\n",
    "    bipartite=BIPARTITE, min_size=MIN_NODES, max_size=MAX_NODES, min_density=MIN_DENSITY, max_density=MAX_DENSITY)"
   ]
  },
  {
   "cell_type": "code",
   "execution_count": null,
   "metadata": {
    "ExecuteTime": {
     "end_time": "2019-07-31T09:28:55.575666Z",
     "start_time": "2019-07-31T09:28:55.573428Z"
    }
   },
   "outputs": [],
   "source": [
    "tabu_list = ['contact', 'sociopatterns-infectious', 'opsahl-ucsocial']"
   ]
  },
  {
   "cell_type": "code",
   "execution_count": null,
   "metadata": {
    "ExecuteTime": {
     "end_time": "2019-07-31T09:28:56.696608Z",
     "start_time": "2019-07-31T09:28:56.532691Z"
    }
   },
   "outputs": [],
   "source": [
    "networks = []\n",
    "\n",
    "for n in tqdm(networks_raw):\n",
    "    network = Dataset(*n)\n",
    "    if network.name not in tabu_list:\n",
    "        networks.append(nu.build_network_from_out_konect(network_name=network.name, \n",
    "                                                     tsv_url=network.tsv_url,\n",
    "                                                     directed=network.directed,\n",
    "                                                     dir_name=f'data/'))"
   ]
  },
  {
   "cell_type": "code",
   "execution_count": null,
   "metadata": {
    "ExecuteTime": {
     "end_time": "2019-07-31T09:29:00.271864Z",
     "start_time": "2019-07-31T09:29:00.269270Z"
    }
   },
   "outputs": [],
   "source": [
    "empirical_dfs = []"
   ]
  },
  {
   "cell_type": "code",
   "execution_count": null,
   "metadata": {
    "ExecuteTime": {
     "end_time": "2019-07-31T09:29:02.300721Z",
     "start_time": "2019-07-31T09:29:02.287071Z"
    }
   },
   "outputs": [],
   "source": [
    "networks = [n for n in networks if n]\n",
    "\n",
    "df_networks = pd.DataFrame(\n",
    "{\n",
    "    'name': [g.graph['name'] for g in networks],\n",
    "    'n_nodes': [nx.number_of_nodes(g) for g in networks],\n",
    "    'n_edges': [nx.number_of_edges(g) for g in networks],\n",
    "    'density': [nx.density(g) for g in networks] \n",
    "}, index=range(len(networks)))\n",
    "\n",
    "df_networks"
   ]
  },
  {
   "cell_type": "code",
   "execution_count": null,
   "metadata": {
    "ExecuteTime": {
     "end_time": "2019-07-31T09:29:03.871491Z",
     "start_time": "2019-07-31T09:29:03.865216Z"
    }
   },
   "outputs": [],
   "source": [
    "print(df_networks.sort_values(by='n_nodes').to_latex(index=False))"
   ]
  },
  {
   "cell_type": "code",
   "execution_count": null,
   "metadata": {
    "ExecuteTime": {
     "end_time": "2019-07-31T11:15:22.488974Z",
     "start_time": "2019-07-31T09:29:07.363355Z"
    },
    "scrolled": true
   },
   "outputs": [],
   "source": [
    "%%time\n",
    "\n",
    "for (i, g) in tqdm(enumerate(networks)):\n",
    "    \n",
    "    if i < (len(empirical_dfs) - 1):\n",
    "        df = empirical_dfs[i]\n",
    "    else:        \n",
    "        results = run_network(g, BUDGET, ALLOCATIONS, NUM_ITERS)\n",
    "        df = pd.DataFrame(list(map(lambda e: e._asdict(), results)))\n",
    "        empirical_dfs.append(df)\n",
    "\n",
    "#     display(HTML(f\"<h2>{g.graph['name']}</h2>\"))               \n",
    "#     draw_graph(g, calculate_graph_energy, title_postfix=', graph energy')\n",
    "#     draw_graph(g, calculate_graph_gradient_centrality, title_postfix=', energy gradient centrality', size_factor=5e4)\n",
    "#     sns.set(rc={'figure.figsize':(11.7,8.27)})\n",
    "#     draw_inequalities(df)"
   ]
  },
  {
   "cell_type": "markdown",
   "metadata": {},
   "source": [
    "## Final minimal inequality\n",
    "\n",
    "### Vertex distribution"
   ]
  },
  {
   "cell_type": "code",
   "execution_count": null,
   "metadata": {
    "ExecuteTime": {
     "end_time": "2019-07-31T11:21:14.690340Z",
     "start_time": "2019-07-31T11:21:14.599154Z"
    }
   },
   "outputs": [],
   "source": [
    "empirical_df = pd.concat(empirical_dfs).reset_index()"
   ]
  },
  {
   "cell_type": "code",
   "execution_count": 42,
   "metadata": {
    "ExecuteTime": {
     "end_time": "2019-08-02T11:42:18.104704Z",
     "start_time": "2019-08-02T11:42:18.069170Z"
    }
   },
   "outputs": [
    {
     "data": {
      "text/plain": [
       "allocation\n",
       "randic_energy    17\n",
       "constant          6\n",
       "pagerank          2\n",
       "Name: network, dtype: int64"
      ]
     },
     "execution_count": 42,
     "metadata": {},
     "output_type": "execute_result"
    }
   ],
   "source": [
    "get_min_inequlity_method(empirical_df, 'vertex_distribution_gini').reset_index().groupby('allocation')['network'].count().nlargest(3)"
   ]
  },
  {
   "cell_type": "code",
   "execution_count": 43,
   "metadata": {
    "ExecuteTime": {
     "end_time": "2019-08-02T11:42:20.489535Z",
     "start_time": "2019-08-02T11:42:20.454020Z"
    }
   },
   "outputs": [
    {
     "data": {
      "text/plain": [
       "allocation\n",
       "randic_energy     17\n",
       "constant           6\n",
       "graph_gradient     2\n",
       "Name: network, dtype: int64"
      ]
     },
     "execution_count": 43,
     "metadata": {},
     "output_type": "execute_result"
    }
   ],
   "source": [
    "get_min_inequlity_method(empirical_df, 'vertex_distribution_theil').reset_index().groupby('allocation')['network'].count().nlargest(3)"
   ]
  },
  {
   "cell_type": "markdown",
   "metadata": {},
   "source": [
    "### Egocentric distribution"
   ]
  },
  {
   "cell_type": "code",
   "execution_count": 44,
   "metadata": {
    "ExecuteTime": {
     "end_time": "2019-08-02T11:42:27.477325Z",
     "start_time": "2019-08-02T11:42:27.437718Z"
    }
   },
   "outputs": [
    {
     "data": {
      "text/plain": [
       "allocation\n",
       "randic_energy         16\n",
       "graph_energy           3\n",
       "laplacian_gradient     3\n",
       "Name: network, dtype: int64"
      ]
     },
     "execution_count": 44,
     "metadata": {},
     "output_type": "execute_result"
    }
   ],
   "source": [
    "get_min_inequlity_method(empirical_df, 'egonet_distribution_gini').reset_index().groupby('allocation')['network'].count().nlargest(3)"
   ]
  },
  {
   "cell_type": "code",
   "execution_count": 45,
   "metadata": {
    "ExecuteTime": {
     "end_time": "2019-08-02T11:42:27.696209Z",
     "start_time": "2019-08-02T11:42:27.649707Z"
    }
   },
   "outputs": [
    {
     "data": {
      "text/plain": [
       "allocation\n",
       "randic_energy    16\n",
       "graph_energy      4\n",
       "random            3\n",
       "Name: network, dtype: int64"
      ]
     },
     "execution_count": 45,
     "metadata": {},
     "output_type": "execute_result"
    }
   ],
   "source": [
    "get_min_inequlity_method(empirical_df, 'egonet_distribution_theil').reset_index().groupby('allocation')['network'].count().nlargest(3)"
   ]
  },
  {
   "cell_type": "code",
   "execution_count": 46,
   "metadata": {
    "ExecuteTime": {
     "end_time": "2019-08-02T11:42:37.322319Z",
     "start_time": "2019-08-02T11:42:33.425908Z"
    }
   },
   "outputs": [],
   "source": [
    "avg_roc_df = group_and_calculate_avg_roc_and_variance(empirical_df)"
   ]
  },
  {
   "cell_type": "markdown",
   "metadata": {},
   "source": [
    "## Rate of Change \n",
    "\n",
    "### Vertex distribution"
   ]
  },
  {
   "cell_type": "markdown",
   "metadata": {},
   "source": [
    "Intrestingly, we can see that gradient alocation methods often have the lowest average rate of change of inequality over iterations"
   ]
  },
  {
   "cell_type": "code",
   "execution_count": 47,
   "metadata": {
    "ExecuteTime": {
     "end_time": "2019-08-02T11:42:40.551059Z",
     "start_time": "2019-08-02T11:42:40.511424Z"
    }
   },
   "outputs": [
    {
     "data": {
      "text/plain": [
       "allocation\n",
       "graph_energy          17\n",
       "laplacian_gradient     4\n",
       "randic_gradient        3\n",
       "Name: network, dtype: int64"
      ]
     },
     "execution_count": 47,
     "metadata": {},
     "output_type": "execute_result"
    }
   ],
   "source": [
    "get_min_statistic_method(avg_roc_df, 'avg_roc', 'vertex_distribution_gini').reset_index().groupby('allocation')['network'].count().nlargest(3)"
   ]
  },
  {
   "cell_type": "code",
   "execution_count": 48,
   "metadata": {
    "ExecuteTime": {
     "end_time": "2019-08-02T11:42:43.413297Z",
     "start_time": "2019-08-02T11:42:43.382828Z"
    }
   },
   "outputs": [
    {
     "data": {
      "text/plain": [
       "allocation\n",
       "graph_energy          16\n",
       "laplacian_energy       4\n",
       "laplacian_gradient     3\n",
       "Name: network, dtype: int64"
      ]
     },
     "execution_count": 48,
     "metadata": {},
     "output_type": "execute_result"
    }
   ],
   "source": [
    "get_min_statistic_method(avg_roc_df, 'avg_roc', 'vertex_distribution_theil').reset_index().groupby('allocation')['network'].count().nlargest(3)"
   ]
  },
  {
   "cell_type": "markdown",
   "metadata": {},
   "source": [
    "### Egocentric distribution"
   ]
  },
  {
   "cell_type": "code",
   "execution_count": 49,
   "metadata": {
    "ExecuteTime": {
     "end_time": "2019-08-02T11:42:48.152899Z",
     "start_time": "2019-08-02T11:42:48.127781Z"
    }
   },
   "outputs": [
    {
     "data": {
      "text/plain": [
       "allocation\n",
       "laplacian_energy    12\n",
       "graph_energy        11\n",
       "randic_energy        2\n",
       "Name: network, dtype: int64"
      ]
     },
     "execution_count": 49,
     "metadata": {},
     "output_type": "execute_result"
    }
   ],
   "source": [
    "get_min_statistic_method(avg_roc_df, 'avg_roc', 'egonet_distribution_gini').reset_index().groupby('allocation')['network'].count().nlargest(3)"
   ]
  },
  {
   "cell_type": "code",
   "execution_count": 50,
   "metadata": {
    "ExecuteTime": {
     "end_time": "2019-08-02T11:42:50.113370Z",
     "start_time": "2019-08-02T11:42:50.067845Z"
    }
   },
   "outputs": [
    {
     "data": {
      "text/plain": [
       "allocation\n",
       "laplacian_energy    12\n",
       "graph_energy        11\n",
       "graph_gradient       2\n",
       "Name: network, dtype: int64"
      ]
     },
     "execution_count": 50,
     "metadata": {},
     "output_type": "execute_result"
    }
   ],
   "source": [
    "get_min_statistic_method(avg_roc_df, 'avg_roc', 'egonet_distribution_theil').reset_index().groupby('allocation')['network'].count().nlargest(3)"
   ]
  },
  {
   "cell_type": "markdown",
   "metadata": {},
   "source": [
    "## Variance\n",
    "\n",
    "### Vertex distribution"
   ]
  },
  {
   "cell_type": "markdown",
   "metadata": {},
   "source": [
    "Intrestingly, we can see that gradient methods often have the lowest variance of inequality over iterations"
   ]
  },
  {
   "cell_type": "code",
   "execution_count": 51,
   "metadata": {
    "ExecuteTime": {
     "end_time": "2019-08-02T11:43:06.372766Z",
     "start_time": "2019-08-02T11:43:06.333724Z"
    }
   },
   "outputs": [
    {
     "data": {
      "text/plain": [
       "allocation\n",
       "graph_energy          15\n",
       "laplacian_gradient     5\n",
       "graph_pagerank         3\n",
       "Name: network, dtype: int64"
      ]
     },
     "execution_count": 51,
     "metadata": {},
     "output_type": "execute_result"
    }
   ],
   "source": [
    "get_min_statistic_method(avg_roc_df, 'variance', 'vertex_distribution_gini').reset_index().groupby('allocation')['network'].count().nlargest(3)"
   ]
  },
  {
   "cell_type": "code",
   "execution_count": 52,
   "metadata": {
    "ExecuteTime": {
     "end_time": "2019-08-02T11:43:09.082861Z",
     "start_time": "2019-08-02T11:43:09.040510Z"
    }
   },
   "outputs": [
    {
     "data": {
      "text/plain": [
       "allocation\n",
       "graph_energy          15\n",
       "laplacian_gradient     6\n",
       "pagerank               2\n",
       "Name: network, dtype: int64"
      ]
     },
     "execution_count": 52,
     "metadata": {},
     "output_type": "execute_result"
    }
   ],
   "source": [
    "get_min_statistic_method(avg_roc_df, 'variance', 'vertex_distribution_theil').reset_index().groupby('allocation')['network'].count().nlargest(3)"
   ]
  },
  {
   "cell_type": "markdown",
   "metadata": {},
   "source": [
    "### Egocentric distribution"
   ]
  },
  {
   "cell_type": "code",
   "execution_count": 53,
   "metadata": {
    "ExecuteTime": {
     "end_time": "2019-08-02T11:43:11.764453Z",
     "start_time": "2019-08-02T11:43:11.721324Z"
    }
   },
   "outputs": [
    {
     "data": {
      "text/plain": [
       "allocation\n",
       "graph_energy          16\n",
       "randic_gradient        4\n",
       "laplacian_gradient     3\n",
       "Name: network, dtype: int64"
      ]
     },
     "execution_count": 53,
     "metadata": {},
     "output_type": "execute_result"
    }
   ],
   "source": [
    "get_min_statistic_method(avg_roc_df, 'variance', 'egonet_distribution_gini').reset_index().groupby('allocation')['network'].count().nlargest(3)"
   ]
  },
  {
   "cell_type": "code",
   "execution_count": 54,
   "metadata": {
    "ExecuteTime": {
     "end_time": "2019-08-02T11:43:13.793794Z",
     "start_time": "2019-08-02T11:43:13.761133Z"
    }
   },
   "outputs": [
    {
     "data": {
      "text/plain": [
       "allocation\n",
       "graph_energy       16\n",
       "randic_gradient     4\n",
       "graph_gradient      2\n",
       "Name: network, dtype: int64"
      ]
     },
     "execution_count": 54,
     "metadata": {},
     "output_type": "execute_result"
    }
   ],
   "source": [
    "get_min_statistic_method(avg_roc_df, 'variance', 'egonet_distribution_theil').reset_index().groupby('allocation')['network'].count().nlargest(3)"
   ]
  },
  {
   "cell_type": "code",
   "execution_count": null,
   "metadata": {
    "ExecuteTime": {
     "end_time": "2019-07-31T11:21:32.506035Z",
     "start_time": "2019-07-31T11:21:32.395503Z"
    }
   },
   "outputs": [],
   "source": [
    "import pickle\n",
    "\n",
    "with open('energy-gradient-alocation.pkl','wb') as f:\n",
    "    pickle.dump([synthetic_df, empirical_df], f)"
   ]
  },
  {
   "cell_type": "code",
   "execution_count": 16,
   "metadata": {
    "ExecuteTime": {
     "end_time": "2019-08-02T10:26:01.719331Z",
     "start_time": "2019-08-02T10:26:01.583941Z"
    }
   },
   "outputs": [],
   "source": [
    "import pickle\n",
    "\n",
    "with open('energy-gradient-alocation.pkl','rb') as f:\n",
    "    synthetic_df, empirical_df = pickle.load(f)"
   ]
  },
  {
   "cell_type": "code",
   "execution_count": null,
   "metadata": {},
   "outputs": [],
   "source": []
  }
 ],
 "metadata": {
  "kernelspec": {
   "display_name": "Python 3",
   "language": "python",
   "name": "python3"
  },
  "language_info": {
   "codemirror_mode": {
    "name": "ipython",
    "version": 3
   },
   "file_extension": ".py",
   "mimetype": "text/x-python",
   "name": "python",
   "nbconvert_exporter": "python",
   "pygments_lexer": "ipython3",
   "version": "3.7.3"
  },
  "toc": {
   "base_numbering": 1,
   "nav_menu": {},
   "number_sections": false,
   "sideBar": false,
   "skip_h1_title": false,
   "title_cell": "Table of Contents",
   "title_sidebar": "Contents",
   "toc_cell": false,
   "toc_position": {},
   "toc_section_display": false,
   "toc_window_display": false
  }
 },
 "nbformat": 4,
 "nbformat_minor": 2
}
