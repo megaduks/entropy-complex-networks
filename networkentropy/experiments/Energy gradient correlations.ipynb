{
 "cells": [
  {
   "cell_type": "code",
   "execution_count": 46,
   "metadata": {},
   "outputs": [],
   "source": [
    "%matplotlib inline\n",
    "\n",
    "import networkx as nx\n",
    "import pandas as pd\n",
    "import numpy as np\n",
    "import scipy as sp\n",
    "import scipy as spy\n",
    "import qgrid\n",
    "\n",
    "from tqdm import tqdm_notebook as tqdm\n",
    "from collections import OrderedDict\n",
    "from statsmodels.graphics.gofplots import qqplot\n",
    "from matplotlib import pyplot\n",
    "\n",
    "import itertools\n",
    "import sys\n",
    "\n",
    "sys.path.append(\"../..\")\n",
    "from networkentropy import network_energy as ne, network_energy_gradient as neg, network_utils as nu"
   ]
  },
  {
   "cell_type": "markdown",
   "metadata": {},
   "source": [
    "## Correlaction between energy gradient and length of the shortest path for all node pairs\n",
    "### For sythetic networks"
   ]
  },
  {
   "cell_type": "markdown",
   "metadata": {},
   "source": [
    "#### Define constants"
   ]
  },
  {
   "cell_type": "code",
   "execution_count": 47,
   "metadata": {},
   "outputs": [],
   "source": [
    "GENERATORS = ['random', 'smallworld', 'waxman', 'powerlaw']\n",
    "RANDOM, SMALLWORLD, WAXMAN, POWERLAW = GENERATORS\n",
    "\n",
    "METHODS = ['randic', 'laplacian', 'graph']\n",
    "RANDIC, LAPLACIAN, GRAPH = METHODS\n",
    "\n",
    "PARAMETER_MAX = 4\n",
    "PARAMETERS = list(range(1, PARAMETER_MAX)) #parameters for synthetic networks models"
   ]
  },
  {
   "cell_type": "markdown",
   "metadata": {},
   "source": [
    "#### Create synthetic networks"
   ]
  },
  {
   "cell_type": "code",
   "execution_count": 48,
   "metadata": {},
   "outputs": [],
   "source": [
    "def create_graph(p, generator, p_max, num_nodes=100):\n",
    "    if generator == RANDOM:\n",
    "        return nx.erdos_renyi_graph(n=num_nodes, p=p/(p_max*10))\n",
    "    elif generator == SMALLWORLD:\n",
    "        return nx.watts_strogatz_graph(n=num_nodes, k=4, p=p/p_max)\n",
    "    elif generator == WAXMAN:\n",
    "        return nx.waxman_graph(n=num_nodes, alpha=p/p_max, beta=0.1)\n",
    "    elif generator == POWERLAW:\n",
    "        return nx.powerlaw_cluster_graph(n=num_nodes, m=3, p=p/(p_max*10))\n",
    "    else:\n",
    "        raise ValueError('Generator: {} does not exist'.format(generator))"
   ]
  },
  {
   "cell_type": "code",
   "execution_count": 49,
   "metadata": {},
   "outputs": [],
   "source": [
    "def create_graphs(paramters, parameter_max, generators):\n",
    "    graphs = []\n",
    "    parameters_generators = list(itertools.product(paramters, generators))\n",
    "    for p, generator in tqdm(parameters_generators):\n",
    "        graph = create_graph(p, generator, parameter_max)\n",
    "        graphs.append(OrderedDict([('param', p), \n",
    "                                   ('generator', generator), \n",
    "                                   ('graph', graph),]))\n",
    "    return pd.DataFrame(graphs)"
   ]
  },
  {
   "cell_type": "code",
   "execution_count": 50,
   "metadata": {},
   "outputs": [
    {
     "data": {
      "application/vnd.jupyter.widget-view+json": {
       "model_id": "d936f0ce4c7f4a179b9db39dcf10a6e9",
       "version_major": 2,
       "version_minor": 0
      },
      "text/plain": [
       "HBox(children=(IntProgress(value=0, max=12), HTML(value='')))"
      ]
     },
     "metadata": {},
     "output_type": "display_data"
    },
    {
     "name": "stdout",
     "output_type": "stream",
     "text": [
      "\n"
     ]
    }
   ],
   "source": [
    "graphs_df = create_graphs(PARAMETERS, PARAMETER_MAX, GENERATORS)"
   ]
  },
  {
   "cell_type": "code",
   "execution_count": 51,
   "metadata": {},
   "outputs": [
    {
     "data": {
      "text/html": [
       "<div>\n",
       "<style scoped>\n",
       "    .dataframe tbody tr th:only-of-type {\n",
       "        vertical-align: middle;\n",
       "    }\n",
       "\n",
       "    .dataframe tbody tr th {\n",
       "        vertical-align: top;\n",
       "    }\n",
       "\n",
       "    .dataframe thead th {\n",
       "        text-align: right;\n",
       "    }\n",
       "</style>\n",
       "<table border=\"1\" class=\"dataframe\">\n",
       "  <thead>\n",
       "    <tr style=\"text-align: right;\">\n",
       "      <th></th>\n",
       "      <th>param</th>\n",
       "      <th>generator</th>\n",
       "      <th>graph</th>\n",
       "    </tr>\n",
       "  </thead>\n",
       "  <tbody>\n",
       "    <tr>\n",
       "      <th>0</th>\n",
       "      <td>1</td>\n",
       "      <td>random</td>\n",
       "      <td>(0, 1, 2, 3, 4, 5, 6, 7, 8, 9, 10, 11, 12, 13,...</td>\n",
       "    </tr>\n",
       "    <tr>\n",
       "      <th>1</th>\n",
       "      <td>1</td>\n",
       "      <td>smallworld</td>\n",
       "      <td>(0, 1, 2, 3, 4, 5, 6, 7, 8, 9, 10, 11, 12, 13,...</td>\n",
       "    </tr>\n",
       "    <tr>\n",
       "      <th>2</th>\n",
       "      <td>1</td>\n",
       "      <td>waxman</td>\n",
       "      <td>(0, 1, 2, 3, 4, 5, 6, 7, 8, 9, 10, 11, 12, 13,...</td>\n",
       "    </tr>\n",
       "    <tr>\n",
       "      <th>3</th>\n",
       "      <td>1</td>\n",
       "      <td>powerlaw</td>\n",
       "      <td>(0, 1, 2, 3, 4, 5, 6, 7, 8, 9, 10, 11, 12, 13,...</td>\n",
       "    </tr>\n",
       "    <tr>\n",
       "      <th>4</th>\n",
       "      <td>2</td>\n",
       "      <td>random</td>\n",
       "      <td>(0, 1, 2, 3, 4, 5, 6, 7, 8, 9, 10, 11, 12, 13,...</td>\n",
       "    </tr>\n",
       "  </tbody>\n",
       "</table>\n",
       "</div>"
      ],
      "text/plain": [
       "   param   generator                                              graph\n",
       "0      1      random  (0, 1, 2, 3, 4, 5, 6, 7, 8, 9, 10, 11, 12, 13,...\n",
       "1      1  smallworld  (0, 1, 2, 3, 4, 5, 6, 7, 8, 9, 10, 11, 12, 13,...\n",
       "2      1      waxman  (0, 1, 2, 3, 4, 5, 6, 7, 8, 9, 10, 11, 12, 13,...\n",
       "3      1    powerlaw  (0, 1, 2, 3, 4, 5, 6, 7, 8, 9, 10, 11, 12, 13,...\n",
       "4      2      random  (0, 1, 2, 3, 4, 5, 6, 7, 8, 9, 10, 11, 12, 13,..."
      ]
     },
     "execution_count": 51,
     "metadata": {},
     "output_type": "execute_result"
    }
   ],
   "source": [
    "graphs_df.head()"
   ]
  },
  {
   "cell_type": "markdown",
   "metadata": {},
   "source": [
    "#### Coalculate shortest paths and gradients for the networks"
   ]
  },
  {
   "cell_type": "code",
   "execution_count": 52,
   "metadata": {},
   "outputs": [],
   "source": [
    "def compute_shortest_paths_and_gradients_for_graph(graph: nx.Graph, additional_attrs: dict, methods):\n",
    "    shortest_paths = nx.shortest_path(graph)\n",
    "    decorated_graph = neg.get_graph_with_energy_data(graph, methods, copy=False)\n",
    "    results = []\n",
    "    for source, paths in shortest_paths.items():\n",
    "        for target, path in paths.items():\n",
    "            length = len(path) - 1\n",
    "            if length > 0:\n",
    "                for method in methods:\n",
    "                    gradient = decorated_graph.get_gradient(source, target, method)\n",
    "                    path_energy = decorated_graph.get_path_energy(path, method)\n",
    "                    row = OrderedDict(additional_attrs)\n",
    "                    row.update(OrderedDict([('method', method), \n",
    "                                            ('source', source), \n",
    "                                            ('target', target), \n",
    "                                            ('length', length), \n",
    "                                            ('gradient', gradient),\n",
    "                                            ('abs_gradient', np.abs(gradient)),\n",
    "                                            ('path_energy', path_energy),\n",
    "                                            ('avg_path_energy', path_energy/len(path)),]))\n",
    "                    results.append(row)\n",
    "    return results\n",
    "    \n",
    "\n",
    "def compute_shortest_paths_and_gradients_for_synthetic_networks(graphs_df, methods):\n",
    "    results = []\n",
    "    for _, (p, generator, graph) in tqdm(list(graphs_df.iterrows())):\n",
    "        additional_attrs = OrderedDict([('param', p),\n",
    "                                        ('generator', generator),])\n",
    "        results.extend(compute_shortest_paths_and_gradients_for_graph(graph, additional_attrs, methods))\n",
    "    return pd.DataFrame(results)"
   ]
  },
  {
   "cell_type": "code",
   "execution_count": 53,
   "metadata": {},
   "outputs": [
    {
     "data": {
      "application/vnd.jupyter.widget-view+json": {
       "model_id": "98fb10036ac44bd8b73121a3a5ef18f7",
       "version_major": 2,
       "version_minor": 0
      },
      "text/plain": [
       "HBox(children=(IntProgress(value=0, max=12), HTML(value='')))"
      ]
     },
     "metadata": {},
     "output_type": "display_data"
    },
    {
     "name": "stdout",
     "output_type": "stream",
     "text": [
      "\n"
     ]
    }
   ],
   "source": [
    "paths_data_df = compute_shortest_paths_and_gradients_for_synthetic_networks(graphs_df, METHODS)"
   ]
  },
  {
   "cell_type": "code",
   "execution_count": 91,
   "metadata": {},
   "outputs": [
    {
     "data": {
      "application/vnd.jupyter.widget-view+json": {
       "model_id": "9811638094934bdd8f18926e90d38ec7",
       "version_major": 2,
       "version_minor": 0
      },
      "text/plain": [
       "QgridWidget(grid_options={'fullWidthRows': True, 'syncColumnCellResize': True, 'forceFitColumns': True, 'defau…"
      ]
     },
     "metadata": {},
     "output_type": "display_data"
    }
   ],
   "source": [
    "qgrid.show_grid(paths_data_df)"
   ]
  },
  {
   "cell_type": "markdown",
   "metadata": {},
   "source": [
    "#### Check is data destribution is normal"
   ]
  },
  {
   "cell_type": "code",
   "execution_count": 55,
   "metadata": {},
   "outputs": [],
   "source": [
    "def draw_qqplot(data):\n",
    "    qqplot(data, line='s')\n",
    "    pyplot.show()"
   ]
  },
  {
   "cell_type": "code",
   "execution_count": 56,
   "metadata": {},
   "outputs": [
    {
     "data": {
      "image/png": "[encoded data removed]",
      "text/plain": [
       "<Figure size 432x288 with 1 Axes>"
      ]
     },
     "metadata": {
      "needs_background": "light"
     },
     "output_type": "display_data"
    }
   ],
   "source": [
    "draw_qqplot(paths_data_df.length)"
   ]
  },
  {
   "cell_type": "code",
   "execution_count": 57,
   "metadata": {},
   "outputs": [
    {
     "data": {
      "text/plain": [
       "NormaltestResult(statistic=40004.89749695716, pvalue=0.0)"
      ]
     },
     "execution_count": 57,
     "metadata": {},
     "output_type": "execute_result"
    }
   ],
   "source": [
    "spy.stats.normaltest(paths_data_df.length)"
   ]
  },
  {
   "cell_type": "code",
   "execution_count": 58,
   "metadata": {},
   "outputs": [
    {
     "data": {
      "image/png": "[encoded data removed]",
      "text/plain": [
       "<Figure size 432x288 with 1 Axes>"
      ]
     },
     "metadata": {
      "needs_background": "light"
     },
     "output_type": "display_data"
    }
   ],
   "source": [
    "draw_qqplot(paths_data_df.gradient)"
   ]
  },
  {
   "cell_type": "code",
   "execution_count": 59,
   "metadata": {},
   "outputs": [
    {
     "data": {
      "text/plain": [
       "NormaltestResult(statistic=100704.40825779282, pvalue=0.0)"
      ]
     },
     "execution_count": 59,
     "metadata": {},
     "output_type": "execute_result"
    }
   ],
   "source": [
    "spy.stats.normaltest(paths_data_df.gradient)"
   ]
  },
  {
   "cell_type": "code",
   "execution_count": 60,
   "metadata": {},
   "outputs": [
    {
     "data": {
      "image/png": "[encoded data removed]",
      "text/plain": [
       "<Figure size 432x288 with 1 Axes>"
      ]
     },
     "metadata": {
      "needs_background": "light"
     },
     "output_type": "display_data"
    }
   ],
   "source": [
    "draw_qqplot(paths_data_df.path_energy)"
   ]
  },
  {
   "cell_type": "code",
   "execution_count": 61,
   "metadata": {},
   "outputs": [
    {
     "data": {
      "text/plain": [
       "NormaltestResult(statistic=152106.7616601349, pvalue=0.0)"
      ]
     },
     "execution_count": 61,
     "metadata": {},
     "output_type": "execute_result"
    }
   ],
   "source": [
    "spy.stats.normaltest(paths_data_df.path_energy)"
   ]
  },
  {
   "cell_type": "code",
   "execution_count": 62,
   "metadata": {},
   "outputs": [
    {
     "data": {
      "image/png": "[encoded data removed]",
      "text/plain": [
       "<Figure size 432x288 with 1 Axes>"
      ]
     },
     "metadata": {
      "needs_background": "light"
     },
     "output_type": "display_data"
    }
   ],
   "source": [
    "draw_qqplot(paths_data_df.avg_path_energy)"
   ]
  },
  {
   "cell_type": "code",
   "execution_count": 63,
   "metadata": {},
   "outputs": [
    {
     "data": {
      "text/plain": [
       "NormaltestResult(statistic=163268.65871026096, pvalue=0.0)"
      ]
     },
     "execution_count": 63,
     "metadata": {},
     "output_type": "execute_result"
    }
   ],
   "source": [
    "spy.stats.normaltest(paths_data_df.avg_path_energy)"
   ]
  },
  {
   "cell_type": "markdown",
   "metadata": {},
   "source": [
    "##### Conclusion\n",
    "\n",
    "Results clearly show the data is not normally distributed for all of the analyzed columns. It is visible on qqplot and also p value of statistical test is zero or very near to zero for all the columns. "
   ]
  },
  {
   "cell_type": "markdown",
   "metadata": {},
   "source": [
    "#### Calculate correlations between shortest path lengths and energy gradients"
   ]
  },
  {
   "cell_type": "code",
   "execution_count": 64,
   "metadata": {},
   "outputs": [],
   "source": [
    "def compute_correlation(grouped_df, column1, column2, methods):\n",
    "    corr_series = []    \n",
    "    for method in methods:\n",
    "        df = grouped_df.corr(method=method)\n",
    "        index_len = len(df.index.names)\n",
    "        index_slices = (index_len - 1) * (slice(None),) + (column1,)\n",
    "        series = df.loc[index_slices, column2]\n",
    "        series.name = method\n",
    "        corr_series.append(series)\n",
    "    corr_df =  pd.concat(corr_series, axis=1)\n",
    "    corr_df.index = corr_df.index.droplevel(-1)\n",
    "    return corr_df\n",
    "\n",
    "def compute_correlation_for_synthetic_networks(paths_gradients_df, column1, column2, methods=['pearson', 'kendall', 'spearman']):\n",
    "    grouped_df = paths_gradients_df\\\n",
    "                    .query('target > source')\\\n",
    "                    .loc[:, ['method', 'generator', 'param', column1, column2]]\\\n",
    "                    .groupby(['method', 'generator', 'param'])\n",
    "    return compute_correlation(grouped_df, column1, column2, methods)"
   ]
  },
  {
   "cell_type": "code",
   "execution_count": 65,
   "metadata": {},
   "outputs": [
    {
     "data": {
      "application/vnd.jupyter.widget-view+json": {
       "model_id": "63a3b125e8934cd494b610731bf76dd5",
       "version_major": 2,
       "version_minor": 0
      },
      "text/plain": [
       "QgridWidget(grid_options={'fullWidthRows': True, 'syncColumnCellResize': True, 'forceFitColumns': True, 'defau…"
      ]
     },
     "metadata": {},
     "output_type": "display_data"
    }
   ],
   "source": [
    "length_abs_gradient_corr_df = compute_correlation_for_synthetic_networks(paths_data_df, 'length', 'abs_gradient')\n",
    "qgrid.show_grid(length_abs_gradient_corr_df)"
   ]
  },
  {
   "cell_type": "code",
   "execution_count": 66,
   "metadata": {},
   "outputs": [
    {
     "data": {
      "application/vnd.jupyter.widget-view+json": {
       "model_id": "e684d9bed3b0421b8cb00f398e969c42",
       "version_major": 2,
       "version_minor": 0
      },
      "text/plain": [
       "QgridWidget(grid_options={'fullWidthRows': True, 'syncColumnCellResize': True, 'forceFitColumns': True, 'defau…"
      ]
     },
     "metadata": {},
     "output_type": "display_data"
    }
   ],
   "source": [
    "path_energy_length_corr_df = compute_correlation_for_synthetic_networks(paths_data_df, 'length', 'path_energy')\n",
    "qgrid.show_grid(path_energy_length_corr_df)"
   ]
  },
  {
   "cell_type": "code",
   "execution_count": 67,
   "metadata": {},
   "outputs": [
    {
     "data": {
      "application/vnd.jupyter.widget-view+json": {
       "model_id": "060dd5cb51c54548b86441f3f5b743aa",
       "version_major": 2,
       "version_minor": 0
      },
      "text/plain": [
       "QgridWidget(grid_options={'fullWidthRows': True, 'syncColumnCellResize': True, 'forceFitColumns': True, 'defau…"
      ]
     },
     "metadata": {},
     "output_type": "display_data"
    }
   ],
   "source": [
    "avg_path_energy_length_corr_df = compute_correlation_for_synthetic_networks(paths_data_df, 'length', 'avg_path_energy')\n",
    "qgrid.show_grid(avg_path_energy_length_corr_df)"
   ]
  },
  {
   "cell_type": "markdown",
   "metadata": {},
   "source": [
    "##### Conclusion\n",
    "\n",
    "We can observe small correlation for gradient and average path energy, however its maximum values are about -0.35.\n",
    "There is a very high correlation between path energy and length of the shortest path but these measures are dependent as sum for longer element has more elements so this probably doesn't bring much information."
   ]
  },
  {
   "cell_type": "markdown",
   "metadata": {},
   "source": [
    "#### Calculate it again using custom function"
   ]
  },
  {
   "cell_type": "markdown",
   "metadata": {},
   "source": [
    "It is redundant repetition but I leave it for now"
   ]
  },
  {
   "cell_type": "code",
   "execution_count": 68,
   "metadata": {},
   "outputs": [],
   "source": [
    "def compute_correlations(parameters, generators, methods, paths_gradients_df):\n",
    "    correlations = []\n",
    "    for p, generator, method in tqdm(list(itertools.product(parameters, generators, methods))):\n",
    "        sub_df = paths_gradients_df.query(\"param=='{}' and generator=='{}' and method=='{}'\".format(p, generator, method))\n",
    "        #leave out negative equivalents\n",
    "        sub_df = sub_df.query(\"target > source\")\n",
    "        sub_df = sub_df.assign(abs_gradient=np.abs(sub_df.gradient))\n",
    "        x = list(sub_df.length)\n",
    "        y = list(sub_df.abs_gradient)\n",
    "        corr = spy.stats.pearsonr(x, y)\n",
    "        correlations.append(OrderedDict([('p', p), \n",
    "                                         ('generator', generator), \n",
    "                                         ('method', method), \n",
    "                                         ('corr', corr)]))\n",
    "    return pd.DataFrame(correlations)"
   ]
  },
  {
   "cell_type": "code",
   "execution_count": 69,
   "metadata": {},
   "outputs": [
    {
     "data": {
      "application/vnd.jupyter.widget-view+json": {
       "model_id": "8ae1effa834349398fbadbfc24ea592b",
       "version_major": 2,
       "version_minor": 0
      },
      "text/plain": [
       "HBox(children=(IntProgress(value=0, max=36), HTML(value='')))"
      ]
     },
     "metadata": {},
     "output_type": "display_data"
    },
    {
     "name": "stdout",
     "output_type": "stream",
     "text": [
      "\n"
     ]
    },
    {
     "data": {
      "application/vnd.jupyter.widget-view+json": {
       "model_id": "d47dcd12ec0048738891eceeca124537",
       "version_major": 2,
       "version_minor": 0
      },
      "text/plain": [
       "QgridWidget(grid_options={'fullWidthRows': True, 'syncColumnCellResize': True, 'forceFitColumns': True, 'defau…"
      ]
     },
     "metadata": {},
     "output_type": "display_data"
    }
   ],
   "source": [
    "corr_df2 = compute_correlations(PARAMETERS, GENERATORS, METHODS, paths_data_df)\n",
    "qgrid.show_grid(corr_df2.sort_values('corr').head())"
   ]
  },
  {
   "cell_type": "markdown",
   "metadata": {},
   "source": [
    "### For empirical networks"
   ]
  },
  {
   "cell_type": "code",
   "execution_count": 70,
   "metadata": {},
   "outputs": [],
   "source": [
    "datasets = nu.create_datasets('konect.uni').filter(min_size=50, max_size=500, max_density=0.1)"
   ]
  },
  {
   "cell_type": "code",
   "execution_count": 71,
   "metadata": {},
   "outputs": [
    {
     "data": {
      "text/html": [
       "<div>\n",
       "<style scoped>\n",
       "    .dataframe tbody tr th:only-of-type {\n",
       "        vertical-align: middle;\n",
       "    }\n",
       "\n",
       "    .dataframe tbody tr th {\n",
       "        vertical-align: top;\n",
       "    }\n",
       "\n",
       "    .dataframe thead th {\n",
       "        text-align: right;\n",
       "    }\n",
       "</style>\n",
       "<table border=\"1\" class=\"dataframe\">\n",
       "  <thead>\n",
       "    <tr style=\"text-align: right;\">\n",
       "      <th></th>\n",
       "      <th>name</th>\n",
       "      <th>category</th>\n",
       "      <th>num_nodes</th>\n",
       "      <th>num_edges</th>\n",
       "      <th>tsv_url</th>\n",
       "    </tr>\n",
       "  </thead>\n",
       "  <tbody>\n",
       "    <tr>\n",
       "      <th>8</th>\n",
       "      <td>brunson_revolution</td>\n",
       "      <td>Affiliation</td>\n",
       "      <td>141</td>\n",
       "      <td>160</td>\n",
       "      <td>http://konect.uni-koblenz.de/downloads/tsv/bru...</td>\n",
       "    </tr>\n",
       "    <tr>\n",
       "      <th>27</th>\n",
       "      <td>arenas-meta</td>\n",
       "      <td>Metabolic</td>\n",
       "      <td>453</td>\n",
       "      <td>4596</td>\n",
       "      <td>http://konect.uni-koblenz.de/downloads/tsv/are...</td>\n",
       "    </tr>\n",
       "    <tr>\n",
       "      <th>45</th>\n",
       "      <td>adjnoun_adjacency</td>\n",
       "      <td>Lexical</td>\n",
       "      <td>112</td>\n",
       "      <td>425</td>\n",
       "      <td>http://konect.uni-koblenz.de/downloads/tsv/adj...</td>\n",
       "    </tr>\n",
       "    <tr>\n",
       "      <th>66</th>\n",
       "      <td>dolphins</td>\n",
       "      <td>Animal</td>\n",
       "      <td>62</td>\n",
       "      <td>159</td>\n",
       "      <td>http://konect.uni-koblenz.de/downloads/tsv/dol...</td>\n",
       "    </tr>\n",
       "    <tr>\n",
       "      <th>102</th>\n",
       "      <td>moreno_highschool</td>\n",
       "      <td>HumanSocial</td>\n",
       "      <td>70</td>\n",
       "      <td>366</td>\n",
       "      <td>http://konect.uni-koblenz.de/downloads/tsv/mor...</td>\n",
       "    </tr>\n",
       "  </tbody>\n",
       "</table>\n",
       "</div>"
      ],
      "text/plain": [
       "                   name     category  num_nodes  num_edges  \\\n",
       "8    brunson_revolution  Affiliation        141        160   \n",
       "27          arenas-meta    Metabolic        453       4596   \n",
       "45    adjnoun_adjacency      Lexical        112        425   \n",
       "66             dolphins       Animal         62        159   \n",
       "102   moreno_highschool  HumanSocial         70        366   \n",
       "\n",
       "                                               tsv_url  \n",
       "8    http://konect.uni-koblenz.de/downloads/tsv/bru...  \n",
       "27   http://konect.uni-koblenz.de/downloads/tsv/are...  \n",
       "45   http://konect.uni-koblenz.de/downloads/tsv/adj...  \n",
       "66   http://konect.uni-koblenz.de/downloads/tsv/dol...  \n",
       "102  http://konect.uni-koblenz.de/downloads/tsv/mor...  "
      ]
     },
     "execution_count": 71,
     "metadata": {},
     "output_type": "execute_result"
    }
   ],
   "source": [
    "datasets.to_df().head()"
   ]
  },
  {
   "cell_type": "code",
   "execution_count": 72,
   "metadata": {},
   "outputs": [
    {
     "data": {
      "text/plain": [
       "['http://konect.uni-koblenz.de/downloads/tsv/brunson_south-africa.tar.bz2']"
      ]
     },
     "execution_count": 72,
     "metadata": {},
     "output_type": "execute_result"
    }
   ],
   "source": [
    "list(nu.create_datasets('konect.uni').to_df().query(\"name=='brunson_south-africa'\").tsv_url)"
   ]
  },
  {
   "cell_type": "code",
   "execution_count": 73,
   "metadata": {},
   "outputs": [],
   "source": [
    "networks_df = datasets.download_and_build_networks('data/')"
   ]
  },
  {
   "cell_type": "code",
   "execution_count": 74,
   "metadata": {},
   "outputs": [],
   "source": [
    "def compute_shortest_paths_and_gradients_for_empirical_networks(networks_df: pd.DataFrame, methods):\n",
    "    results = []\n",
    "    for _, (name, category, _, _, _, graph) in tqdm(list(networks_df.iterrows())):\n",
    "        print(name)\n",
    "        additional_attrs = OrderedDict([('name', name),                                        \n",
    "                                        ('category', category),])\n",
    "        results.extend(compute_shortest_paths_and_gradients_for_graph(graph, additional_attrs, methods))\n",
    "    return pd.DataFrame(results)"
   ]
  },
  {
   "cell_type": "code",
   "execution_count": 75,
   "metadata": {},
   "outputs": [
    {
     "data": {
      "application/vnd.jupyter.widget-view+json": {
       "model_id": "470e236fd6f845c88cedd17b97794907",
       "version_major": 2,
       "version_minor": 0
      },
      "text/plain": [
       "HBox(children=(IntProgress(value=0, max=12), HTML(value='')))"
      ]
     },
     "metadata": {},
     "output_type": "display_data"
    },
    {
     "name": "stdout",
     "output_type": "stream",
     "text": [
      "brunson_revolution\n",
      "arenas-meta\n",
      "adjnoun_adjacency\n",
      "dolphins\n",
      "moreno_highschool\n",
      "arenas-jazz\n",
      "moreno_lesmis\n",
      "maayan-foodweb\n",
      "maayan-pdzbase\n",
      "moreno_innovation\n",
      "moreno_oz\n",
      "moreno_train\n",
      "\n"
     ]
    }
   ],
   "source": [
    "paths_data_empirical_df = compute_shortest_paths_and_gradients_for_empirical_networks(networks_df, METHODS)"
   ]
  },
  {
   "cell_type": "code",
   "execution_count": 76,
   "metadata": {},
   "outputs": [
    {
     "data": {
      "text/html": [
       "<div>\n",
       "<style scoped>\n",
       "    .dataframe tbody tr th:only-of-type {\n",
       "        vertical-align: middle;\n",
       "    }\n",
       "\n",
       "    .dataframe tbody tr th {\n",
       "        vertical-align: top;\n",
       "    }\n",
       "\n",
       "    .dataframe thead th {\n",
       "        text-align: right;\n",
       "    }\n",
       "</style>\n",
       "<table border=\"1\" class=\"dataframe\">\n",
       "  <thead>\n",
       "    <tr style=\"text-align: right;\">\n",
       "      <th></th>\n",
       "      <th>name</th>\n",
       "      <th>category</th>\n",
       "      <th>method</th>\n",
       "      <th>source</th>\n",
       "      <th>target</th>\n",
       "      <th>length</th>\n",
       "      <th>gradient</th>\n",
       "      <th>abs_gradient</th>\n",
       "      <th>path_energy</th>\n",
       "      <th>avg_path_energy</th>\n",
       "    </tr>\n",
       "  </thead>\n",
       "  <tbody>\n",
       "    <tr>\n",
       "      <th>0</th>\n",
       "      <td>brunson_revolution</td>\n",
       "      <td>Affiliation</td>\n",
       "      <td>randic</td>\n",
       "      <td>1</td>\n",
       "      <td>2</td>\n",
       "      <td>1</td>\n",
       "      <td>-1.103743</td>\n",
       "      <td>1.103743</td>\n",
       "      <td>7.903992</td>\n",
       "      <td>3.951996</td>\n",
       "    </tr>\n",
       "    <tr>\n",
       "      <th>1</th>\n",
       "      <td>brunson_revolution</td>\n",
       "      <td>Affiliation</td>\n",
       "      <td>laplacian</td>\n",
       "      <td>1</td>\n",
       "      <td>2</td>\n",
       "      <td>1</td>\n",
       "      <td>-102.239354</td>\n",
       "      <td>102.239354</td>\n",
       "      <td>198.054556</td>\n",
       "      <td>99.027278</td>\n",
       "    </tr>\n",
       "    <tr>\n",
       "      <th>2</th>\n",
       "      <td>brunson_revolution</td>\n",
       "      <td>Affiliation</td>\n",
       "      <td>graph</td>\n",
       "      <td>1</td>\n",
       "      <td>2</td>\n",
       "      <td>1</td>\n",
       "      <td>-11.847054</td>\n",
       "      <td>11.847054</td>\n",
       "      <td>41.850103</td>\n",
       "      <td>20.925052</td>\n",
       "    </tr>\n",
       "    <tr>\n",
       "      <th>3</th>\n",
       "      <td>brunson_revolution</td>\n",
       "      <td>Affiliation</td>\n",
       "      <td>randic</td>\n",
       "      <td>1</td>\n",
       "      <td>3</td>\n",
       "      <td>1</td>\n",
       "      <td>-0.506857</td>\n",
       "      <td>0.506857</td>\n",
       "      <td>8.500879</td>\n",
       "      <td>4.250439</td>\n",
       "    </tr>\n",
       "    <tr>\n",
       "      <th>4</th>\n",
       "      <td>brunson_revolution</td>\n",
       "      <td>Affiliation</td>\n",
       "      <td>laplacian</td>\n",
       "      <td>1</td>\n",
       "      <td>3</td>\n",
       "      <td>1</td>\n",
       "      <td>-81.782711</td>\n",
       "      <td>81.782711</td>\n",
       "      <td>218.511199</td>\n",
       "      <td>109.255600</td>\n",
       "    </tr>\n",
       "  </tbody>\n",
       "</table>\n",
       "</div>"
      ],
      "text/plain": [
       "                 name     category     method source target  length  \\\n",
       "0  brunson_revolution  Affiliation     randic      1      2       1   \n",
       "1  brunson_revolution  Affiliation  laplacian      1      2       1   \n",
       "2  brunson_revolution  Affiliation      graph      1      2       1   \n",
       "3  brunson_revolution  Affiliation     randic      1      3       1   \n",
       "4  brunson_revolution  Affiliation  laplacian      1      3       1   \n",
       "\n",
       "     gradient  abs_gradient  path_energy  avg_path_energy  \n",
       "0   -1.103743      1.103743     7.903992         3.951996  \n",
       "1 -102.239354    102.239354   198.054556        99.027278  \n",
       "2  -11.847054     11.847054    41.850103        20.925052  \n",
       "3   -0.506857      0.506857     8.500879         4.250439  \n",
       "4  -81.782711     81.782711   218.511199       109.255600  "
      ]
     },
     "execution_count": 76,
     "metadata": {},
     "output_type": "execute_result"
    }
   ],
   "source": [
    "paths_data_empirical_df.head()"
   ]
  },
  {
   "cell_type": "code",
   "execution_count": 77,
   "metadata": {},
   "outputs": [
    {
     "data": {
      "image/png": "[encoded data removed]",
      "text/plain": [
       "<Figure size 432x288 with 1 Axes>"
      ]
     },
     "metadata": {
      "needs_background": "light"
     },
     "output_type": "display_data"
    }
   ],
   "source": [
    "draw_qqplot(paths_data_empirical_df.length)"
   ]
  },
  {
   "cell_type": "code",
   "execution_count": 78,
   "metadata": {},
   "outputs": [
    {
     "data": {
      "text/plain": [
       "NormaltestResult(statistic=578633.1967249401, pvalue=0.0)"
      ]
     },
     "execution_count": 78,
     "metadata": {},
     "output_type": "execute_result"
    }
   ],
   "source": [
    "spy.stats.normaltest(paths_data_empirical_df.length)"
   ]
  },
  {
   "cell_type": "code",
   "execution_count": 79,
   "metadata": {},
   "outputs": [
    {
     "data": {
      "image/png": "[encoded data removed]",
      "text/plain": [
       "<Figure size 432x288 with 1 Axes>"
      ]
     },
     "metadata": {
      "needs_background": "light"
     },
     "output_type": "display_data"
    }
   ],
   "source": [
    "draw_qqplot(paths_data_empirical_df.gradient)"
   ]
  },
  {
   "cell_type": "code",
   "execution_count": 80,
   "metadata": {},
   "outputs": [
    {
     "data": {
      "text/plain": [
       "NormaltestResult(statistic=475657.98547785985, pvalue=0.0)"
      ]
     },
     "execution_count": 80,
     "metadata": {},
     "output_type": "execute_result"
    }
   ],
   "source": [
    "spy.stats.normaltest(paths_data_empirical_df.gradient)"
   ]
  },
  {
   "cell_type": "code",
   "execution_count": 81,
   "metadata": {},
   "outputs": [
    {
     "data": {
      "image/png": "[encoded data removed]",
      "text/plain": [
       "<Figure size 432x288 with 1 Axes>"
      ]
     },
     "metadata": {
      "needs_background": "light"
     },
     "output_type": "display_data"
    }
   ],
   "source": [
    "draw_qqplot(paths_data_empirical_df.abs_gradient)"
   ]
  },
  {
   "cell_type": "code",
   "execution_count": 82,
   "metadata": {},
   "outputs": [
    {
     "data": {
      "text/plain": [
       "NormaltestResult(statistic=1753627.8888022795, pvalue=0.0)"
      ]
     },
     "execution_count": 82,
     "metadata": {},
     "output_type": "execute_result"
    }
   ],
   "source": [
    "spy.stats.normaltest(paths_data_empirical_df.abs_gradient)"
   ]
  },
  {
   "cell_type": "code",
   "execution_count": 83,
   "metadata": {},
   "outputs": [
    {
     "data": {
      "image/png": "[encoded data removed]",
      "text/plain": [
       "<Figure size 432x288 with 1 Axes>"
      ]
     },
     "metadata": {
      "needs_background": "light"
     },
     "output_type": "display_data"
    }
   ],
   "source": [
    "draw_qqplot(paths_data_empirical_df.path_energy)"
   ]
  },
  {
   "cell_type": "code",
   "execution_count": 84,
   "metadata": {},
   "outputs": [
    {
     "data": {
      "text/plain": [
       "NormaltestResult(statistic=331064.7917593766, pvalue=0.0)"
      ]
     },
     "execution_count": 84,
     "metadata": {},
     "output_type": "execute_result"
    }
   ],
   "source": [
    "spy.stats.normaltest(paths_data_empirical_df.path_energy)"
   ]
  },
  {
   "cell_type": "code",
   "execution_count": 85,
   "metadata": {},
   "outputs": [
    {
     "data": {
      "image/png": "[encoded data removed]",
      "text/plain": [
       "<Figure size 432x288 with 1 Axes>"
      ]
     },
     "metadata": {
      "needs_background": "light"
     },
     "output_type": "display_data"
    }
   ],
   "source": [
    "draw_qqplot(paths_data_empirical_df.avg_path_energy)"
   ]
  },
  {
   "cell_type": "code",
   "execution_count": 86,
   "metadata": {},
   "outputs": [
    {
     "data": {
      "text/plain": [
       "NormaltestResult(statistic=364920.9860340892, pvalue=0.0)"
      ]
     },
     "execution_count": 86,
     "metadata": {},
     "output_type": "execute_result"
    }
   ],
   "source": [
    "spy.stats.normaltest(paths_data_empirical_df.avg_path_energy)"
   ]
  },
  {
   "cell_type": "code",
   "execution_count": 87,
   "metadata": {},
   "outputs": [],
   "source": [
    "def compute_correlation_for_empirical_networks(paths_gradients_df, column1, column2, methods=['pearson', 'kendall', 'spearman']):\n",
    "    grouped_df = paths_gradients_df\\\n",
    "                    .query('target > source')\\\n",
    "                    .loc[:, ['category', 'name', 'method', column1, column2,]]\\\n",
    "                    .groupby(['category', 'name', 'method',])\n",
    "    return compute_correlation(grouped_df, column1, column2, methods)"
   ]
  },
  {
   "cell_type": "code",
   "execution_count": 88,
   "metadata": {},
   "outputs": [
    {
     "data": {
      "application/vnd.jupyter.widget-view+json": {
       "model_id": "1fe61433cd844a178f5c5b3565f507c4",
       "version_major": 2,
       "version_minor": 0
      },
      "text/plain": [
       "QgridWidget(grid_options={'fullWidthRows': True, 'syncColumnCellResize': True, 'forceFitColumns': True, 'defau…"
      ]
     },
     "metadata": {},
     "output_type": "display_data"
    }
   ],
   "source": [
    "length_abs_gradient_corr_empirical_df = \\\n",
    "compute_correlation_for_empirical_networks(paths_data_empirical_df,  'length', 'abs_gradient')\n",
    "qgrid.show_grid(length_abs_gradient_corr_empirical_df)"
   ]
  },
  {
   "cell_type": "code",
   "execution_count": 89,
   "metadata": {},
   "outputs": [
    {
     "data": {
      "application/vnd.jupyter.widget-view+json": {
       "model_id": "41e758db2fb549b9a329e6b45b056a51",
       "version_major": 2,
       "version_minor": 0
      },
      "text/plain": [
       "QgridWidget(grid_options={'fullWidthRows': True, 'syncColumnCellResize': True, 'forceFitColumns': True, 'defau…"
      ]
     },
     "metadata": {},
     "output_type": "display_data"
    }
   ],
   "source": [
    "length_path_energy_corr_empirical_df = \\\n",
    "compute_correlation_for_empirical_networks(paths_data_empirical_df,  'length', 'path_energy')\n",
    "qgrid.show_grid(length_path_energy_corr_empirical_df)"
   ]
  },
  {
   "cell_type": "code",
   "execution_count": 90,
   "metadata": {},
   "outputs": [
    {
     "data": {
      "application/vnd.jupyter.widget-view+json": {
       "model_id": "e1fa7218e51144f2a8000c2f7fa791c4",
       "version_major": 2,
       "version_minor": 0
      },
      "text/plain": [
       "QgridWidget(grid_options={'fullWidthRows': True, 'syncColumnCellResize': True, 'forceFitColumns': True, 'defau…"
      ]
     },
     "metadata": {},
     "output_type": "display_data"
    }
   ],
   "source": [
    "length_avg_path_energy_corr_empirical_df = \\\n",
    "compute_correlation_for_empirical_networks(paths_data_empirical_df,  'length', 'avg_path_energy')\n",
    "qgrid.show_grid(length_avg_path_energy_corr_empirical_df)"
   ]
  },
  {
   "cell_type": "code",
   "execution_count": null,
   "metadata": {},
   "outputs": [],
   "source": []
  },
  {
   "cell_type": "code",
   "execution_count": null,
   "metadata": {},
   "outputs": [],
   "source": []
  }
 ],
 "metadata": {
  "kernelspec": {
   "display_name": "Python [conda env:entropy]",
   "language": "python",
   "name": "conda-env-entropy-py"
  },
  "language_info": {
   "codemirror_mode": {
    "name": "ipython",
    "version": 3
   },
   "file_extension": ".py",
   "mimetype": "text/x-python",
   "name": "python",
   "nbconvert_exporter": "python",
   "pygments_lexer": "ipython3",
   "version": "3.6.7"
  },
  "toc": {
   "base_numbering": 1,
   "nav_menu": {},
   "number_sections": false,
   "sideBar": false,
   "skip_h1_title": false,
   "title_cell": "Table of Contents",
   "title_sidebar": "Contents",
   "toc_cell": false,
   "toc_position": {},
   "toc_section_display": false,
   "toc_window_display": false
  }
 },
 "nbformat": 4,
 "nbformat_minor": 2
}
